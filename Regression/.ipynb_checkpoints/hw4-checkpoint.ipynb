{
 "cells": [
  {
   "cell_type": "markdown",
   "id": "e6d286ed-6523-4fe2-9b8f-73bd96cb5c83",
   "metadata": {
    "tags": []
   },
   "source": [
    "## Question 3"
   ]
  },
  {
   "cell_type": "markdown",
   "id": "42e0dc6f-91d9-4f3f-9030-2fb32455a181",
   "metadata": {
    "tags": []
   },
   "source": [
    "### Question 3a\n",
    "Refer to above page (LaTeX portion of document)."
   ]
  },
  {
   "cell_type": "markdown",
   "id": "087f4992-82f2-4b68-9ca6-b50ffeaeda4a",
   "metadata": {},
   "source": [
    "###  Question 3b"
   ]
  },
  {
   "cell_type": "markdown",
   "id": "79cc2c86-d7c1-42b9-96b5-d134cdf2f7b8",
   "metadata": {},
   "source": [
    "Here, I set a random seed of 42 for the entire remaining notebook, suffle the data, create a new shuffled .mat file, and load it into the notebook. This prevents necessity of repeat reshuffling of data."
   ]
  },
  {
   "cell_type": "code",
   "execution_count": 2,
   "id": "987388ec-c743-44e5-9f55-bab084a497d5",
   "metadata": {},
   "outputs": [],
   "source": [
    "import numpy as np\n",
    "from scipy import io\n",
    "import matplotlib.pyplot as plt\n",
    "from scipy.special import expit\n",
    "\n",
    "np.random.seed(42)\n",
    "def load_and_save(filename, num = None, percent = None):\n",
    "    \"\"\"\n",
    "    Shuffles, splits and adds the modified data to a new file,\n",
    "    prepended with 'prep_'.\n",
    "    \"\"\"\n",
    "    dataset = io.loadmat(filename)\n",
    "    if percent:\n",
    "        num = int(dataset[\"y\"].shape[0] * percent)\n",
    "    t_dat, t_lbl, v_dat, v_lbl = split_data(dataset[\"X\"], \n",
    "                                            dataset[\"y\"],\n",
    "                                            num)\n",
    "    dataset[\"training_data\"] = t_dat\n",
    "    dataset[\"training_labels\"] = t_lbl\n",
    "    dataset[\"valid_data\"] = v_dat\n",
    "    dataset[\"valid_labels\"] = v_lbl\n",
    "    \n",
    "    io.savemat(\"prep_\" + filename, dataset)\n",
    "\n",
    "def split_data(train, labels, num_valid):\n",
    "    num_data = train.shape[0]\n",
    "    assert num_valid <= len(train)\n",
    "    assert num_data == labels.shape[0]\n",
    "    idx = np.arange(num_data)\n",
    "    np.random.shuffle(idx)\n",
    "    train_shf = train[idx]\n",
    "    lbl_shf = labels[idx]\n",
    "    valid_dat = train_shf[:num_valid]\n",
    "    valid_lbl = lbl_shf[:num_valid]\n",
    "    train_dat = train_shf[num_valid:]\n",
    "    train_lbl = lbl_shf[num_valid:]\n",
    "    return train_dat, train_lbl, valid_dat, valid_lbl\n",
    "\n",
    "def contrast_norm(td):\n",
    "    return np.array([td[i] / np.linalg.norm(td[i]) for i in range(len(td))])"
   ]
  },
  {
   "cell_type": "code",
   "execution_count": 2,
   "id": "a975def2-1d68-4da2-905d-5ddf6dd4947f",
   "metadata": {},
   "outputs": [],
   "source": [
    "load_and_save(\"data_wine.mat\", percent = 0.1)"
   ]
  },
  {
   "cell_type": "code",
   "execution_count": 3,
   "id": "18ccb551-49d8-4b74-a470-e332c78569db",
   "metadata": {},
   "outputs": [],
   "source": [
    "data = io.loadmat(\"prep_data_wine.mat\")"
   ]
  },
  {
   "cell_type": "markdown",
   "id": "ae2d7cb9-5b4b-44ed-8d58-3de9962d5817",
   "metadata": {},
   "source": [
    "Here, `prep_data()` normalizes the data, as well as standardizes it according to its standard deviation."
   ]
  },
  {
   "cell_type": "code",
   "execution_count": 3,
   "id": "91ab156c-1b6f-4759-8bff-b7368819b5fc",
   "metadata": {},
   "outputs": [],
   "source": [
    "Xinit = data['training_data']\n",
    "yinit = data['training_labels']\n",
    "Xlinit = data['valid_data']\n",
    "ylinit = data['valid_labels']\n",
    "\n",
    "def prep_data(Xinit, yinit):\n",
    "    Xinit = (Xinit - np.mean(Xinit, axis = 0)) / (np.std(Xinit, axis = 0) + 1e-3)\n",
    "    j = np.ones(Xinit.shape[0])\n",
    "    X = np.concatenate([Xinit, j[:, np.newaxis]], axis = 1)\n",
    "    y = yinit.T[0]\n",
    "    return X, y\n"
   ]
  },
  {
   "cell_type": "code",
   "execution_count": 345,
   "id": "443d3e12-f0df-428a-8516-7918f36f9645",
   "metadata": {},
   "outputs": [],
   "source": [
    "X, y = prep_data(Xinit,  yinit)\n",
    "Xl, yl = prep_data(Xlinit, ylinit)"
   ]
  },
  {
   "cell_type": "markdown",
   "id": "91d691fe-5eb9-4a9b-ad3e-f7a9b2bbe9e7",
   "metadata": {},
   "source": [
    "The gradient descent algorithm I've implemented here starts with a weights vector of only zeros."
   ]
  },
  {
   "cell_type": "code",
   "execution_count": 362,
   "id": "9ba83e04-7294-4a80-854a-fa909b277bd3",
   "metadata": {},
   "outputs": [],
   "source": [
    "def run_gd(regp, lr, n = 10000):\n",
    "    \n",
    "    def get_s(w):\n",
    "        return expit(np.matmul(X, w))\n",
    "\n",
    "    w = np.zeros(X.shape[1])\n",
    "    one = np.ones(X.shape[0])\n",
    "\n",
    "    def desc_iter(w):\n",
    "        s = get_s(w)\n",
    "        b = np.matmul(X.T, y - s)\n",
    "        w_k = (1 - 2 * lr * regp) * w + lr * b\n",
    "        return w_k\n",
    "\n",
    "    def cost_fn(w):\n",
    "        s = get_s(w)\n",
    "        cost = -(y.dot(np.log(s))) - (one - y).dot(np.log(one - s))\n",
    "        return cost\n",
    "\n",
    "    carr = []\n",
    "    sarr = []\n",
    "    warr = []\n",
    "    for i in range(n):\n",
    "        warr.append(w)\n",
    "        carr.append(cost_fn(w))\n",
    "        sarr.append(get_s(w))\n",
    "        w = desc_iter(w)\n",
    "    return warr, carr\n",
    "\n",
    "def predict(X, w):\n",
    "    a = np.matmul(X, w)\n",
    "    return a > 0\n",
    "\n",
    "def get_tacc(X, y, w):\n",
    "    return np.sum(predict(X, w) == y) / len(y)\n",
    "\n",
    "def get_vacc(Xl, yl, w):\n",
    "    return np.sum(predict(Xl, w) == yl) / len(yl)"
   ]
  },
  {
   "cell_type": "code",
   "execution_count": 431,
   "id": "6a2275d3-f9b2-4338-9dcb-d72b12dc7ae1",
   "metadata": {
    "tags": []
   },
   "outputs": [],
   "source": [
    "regp = 1e-3\n",
    "lr = 1e-3\n",
    "warr, carr = run_gd(regp, lr, n = 10000)"
   ]
  },
  {
   "cell_type": "markdown",
   "id": "5ae6c84c-4685-4281-96cb-19593891b290",
   "metadata": {},
   "source": [
    "Below is the final cost of the optimization."
   ]
  },
  {
   "cell_type": "code",
   "execution_count": 432,
   "id": "2d6ef6a1-6117-4308-9b0e-5b3b13919652",
   "metadata": {},
   "outputs": [
    {
     "data": {
      "text/plain": [
       "176.2337435169208"
      ]
     },
     "execution_count": 432,
     "metadata": {},
     "output_type": "execute_result"
    }
   ],
   "source": [
    "carr[-1]"
   ]
  },
  {
   "cell_type": "markdown",
   "id": "4da03e11-958e-471a-b132-b75565cc5f42",
   "metadata": {},
   "source": [
    "Below is the training accuracy and number correct."
   ]
  },
  {
   "cell_type": "code",
   "execution_count": 433,
   "id": "632642cc-4c45-4be9-9cad-854ca8a8a9e6",
   "metadata": {
    "tags": []
   },
   "outputs": [
    {
     "data": {
      "text/plain": [
       "0.9953703703703703"
      ]
     },
     "execution_count": 433,
     "metadata": {},
     "output_type": "execute_result"
    }
   ],
   "source": [
    "get_tacc(X, y, warr[-1])"
   ]
  },
  {
   "cell_type": "code",
   "execution_count": 434,
   "id": "d0b5f2d4-0773-41dd-8e37-23724eb8375b",
   "metadata": {
    "tags": []
   },
   "outputs": [
    {
     "name": "stdout",
     "output_type": "stream",
     "text": [
      "5375 / 5400\n"
     ]
    }
   ],
   "source": [
    "print(int(get_tacc(X, y, warr[-1]) * len(y)), \"/\" , len(y))"
   ]
  },
  {
   "cell_type": "markdown",
   "id": "427d13f7-4fa6-4183-ad66-0afe157150a6",
   "metadata": {},
   "source": [
    "Below is the validation accuracy and number correct."
   ]
  },
  {
   "cell_type": "code",
   "execution_count": 435,
   "id": "567d5072-dac6-4a89-ab40-bed446e8bbca",
   "metadata": {
    "tags": []
   },
   "outputs": [
    {
     "data": {
      "text/plain": [
       "0.9933333333333333"
      ]
     },
     "execution_count": 435,
     "metadata": {},
     "output_type": "execute_result"
    }
   ],
   "source": [
    "get_vacc(Xl, yl, warr[-1])"
   ]
  },
  {
   "cell_type": "code",
   "execution_count": 436,
   "id": "ca88d9af-6423-4bd9-b276-f568bee1c691",
   "metadata": {},
   "outputs": [
    {
     "name": "stdout",
     "output_type": "stream",
     "text": [
      "596 / 600\n"
     ]
    }
   ],
   "source": [
    "print(int(get_vacc(Xl, yl, warr[-1]) * len(yl)), \"/\" , len(yl))"
   ]
  },
  {
   "cell_type": "markdown",
   "id": "7cd6076c-b70b-4c2c-adb4-faca53d13d1e",
   "metadata": {},
   "source": [
    "Below is the cost function as a function of the number of iterations. The result for cost as a function of iterations is surprisingly stochastic, but it is likely due to the high learning rate input at the beginning. We find that this higher learning rate is better for a limited number of iterations (10000)."
   ]
  },
  {
   "cell_type": "code",
   "execution_count": 437,
   "id": "833c19e4-e8c0-4c8e-a0b7-09394eb99e31",
   "metadata": {},
   "outputs": [
    {
     "data": {
      "text/plain": [
       "Text(0, 0.5, 'Log-Scaled Cost')"
      ]
     },
     "execution_count": 437,
     "metadata": {},
     "output_type": "execute_result"
    },
    {
     "data": {
      "image/png": "[encoded data removed]",
      "text/plain": [
       "<Figure size 432x288 with 1 Axes>"
      ]
     },
     "metadata": {
      "needs_background": "light"
     },
     "output_type": "display_data"
    }
   ],
   "source": [
    "plt.scatter(range(10000), carr, s = 0.2)\n",
    "plt.semilogy()\n",
    "plt.ylim((1e2, 5e2))\n",
    "plt.title(\"Cost J vs. Iterations (SGD)\")\n",
    "plt.xlabel(\"Number of Iterations\")\n",
    "plt.ylabel(\"Log-Scaled Cost\")"
   ]
  },
  {
   "cell_type": "markdown",
   "id": "e43725c8-cd94-4200-a141-c208b62de614",
   "metadata": {},
   "source": [
    "The flatlining above indicates either the learning rate is too high later on, or that it is near the minima but not at it. This indicates necessity for a dynamic learning rate."
   ]
  },
  {
   "cell_type": "markdown",
   "id": "25255fcc-4aad-4acf-98db-e6afa1cc593e",
   "metadata": {},
   "source": [
    "I now tune for hyperparameters.  If we see below, what I do is make a grid of the possible hyperparameter permutations, and caculate the cost and validation accuracy in either case. With this information, I can make a guess as to what the ideal hyperparameter combination is. Above, I have redone my calculation with what I belive is near the optimal set of hyperparameters, based on the setup below."
   ]
  },
  {
   "cell_type": "code",
   "execution_count": 413,
   "id": "33027b7f-eea3-45e6-ab34-e5f1fc710658",
   "metadata": {},
   "outputs": [],
   "source": [
    "lr_rng = np.logspace(-7, -2, 6)\n",
    "reg_rng = np.logspace(-5, 2, 9)"
   ]
  },
  {
   "cell_type": "code",
   "execution_count": 414,
   "id": "8ee67e8f-af72-4708-bdb2-cf431d45445d",
   "metadata": {},
   "outputs": [
    {
     "name": "stderr",
     "output_type": "stream",
     "text": [
      "/Users/shri/opt/miniconda3/envs/astroconda/lib/python3.7/site-packages/ipykernel_launcher.py:17: RuntimeWarning: divide by zero encountered in log\n"
     ]
    }
   ],
   "source": [
    "def tune_hyp_gd(X, y, Xl, yl, lr_rng, reg_rng):\n",
    "    hyps = np.array(np.meshgrid(lr_rng, reg_rng)).T\n",
    "    arr_cost = np.zeros(hyps.shape[:2])\n",
    "    arr_vacc = np.zeros(hyps.shape[:2])\n",
    "    \n",
    "    \n",
    "    for i in range(len(lr_rng)):\n",
    "        for j in range(len(reg_rng)):\n",
    "            lr, reg = hyps[i][j]\n",
    "            warr, carr = run_gd(regp, lr, n = 10000)\n",
    "            vacc = get_vacc(Xl, yl, warr[-1])\n",
    "            arr_vacc[i][j] = vacc\n",
    "            arr_cost[i][j] = carr[-1]\n",
    "    \n",
    "    return arr_cost, arr_vacc, hyps\n",
    "    \n",
    "cost_gd, vacc_gd, hyps = tune_hyp_gd(X, y, Xl, yl, lr_rng, reg_rng)"
   ]
  },
  {
   "cell_type": "code",
   "execution_count": 421,
   "id": "fa2f37c7-7b03-417a-8a79-19883fbc49ae",
   "metadata": {
    "tags": []
   },
   "outputs": [
    {
     "data": {
      "text/plain": [
       "<matplotlib.colorbar.Colorbar at 0x7ff3884fd050>"
      ]
     },
     "execution_count": 421,
     "metadata": {},
     "output_type": "execute_result"
    },
    {
     "data": {
      "image/png": "[encoded data removed]",
      "text/plain": [
       "<Figure size 432x288 with 2 Axes>"
      ]
     },
     "metadata": {
      "needs_background": "light"
     },
     "output_type": "display_data"
    }
   ],
   "source": [
    "from matplotlib.colors import LogNorm\n",
    "plt.imshow(cost_gd, cmap = 'viridis_r', norm = LogNorm(1.7e2, 4e2))\n",
    "plt.xticks(range(9), np.round(np.log10(hyps[:, :, 1][0]), 2))\n",
    "plt.yticks(range(6), np.round(np.log10(hyps[:, :].T[0][0])))\n",
    "plt.title(\"Cost J vs. $\\epsilon$ and $\\lambda$\")\n",
    "plt.xlabel(\"Log of Regularization Parameter $\\log{(\\lambda)}$\")\n",
    "plt.ylabel(\"Log of Learning Rate $\\log{(\\epsilon)}$\")\n",
    "plt.colorbar()"
   ]
  },
  {
   "cell_type": "code",
   "execution_count": 422,
   "id": "97c9160c-94aa-4883-9280-6ec4bd534913",
   "metadata": {},
   "outputs": [
    {
     "data": {
      "text/plain": [
       "<matplotlib.colorbar.Colorbar at 0x7ff38880c4d0>"
      ]
     },
     "execution_count": 422,
     "metadata": {},
     "output_type": "execute_result"
    },
    {
     "data": {
      "image/png": "[encoded data removed]",
      "text/plain": [
       "<Figure size 432x288 with 2 Axes>"
      ]
     },
     "metadata": {
      "needs_background": "light"
     },
     "output_type": "display_data"
    }
   ],
   "source": [
    "plt.imshow(vacc_gd)\n",
    "plt.xticks(range(9), np.round(np.log10(hyps[:, :, 1][0]), 2))\n",
    "plt.yticks(range(6), np.round(np.log10(hyps[:, :].T[0][0])))\n",
    "plt.title(\"Validation Acc vs. $\\epsilon$ and $\\lambda$\")\n",
    "plt.xlabel(\"Log of Regularization Parameter $\\log{(\\lambda)}$\")\n",
    "plt.ylabel(\"Log of Learning Rate $\\log{(\\epsilon)}$\")\n",
    "plt.colorbar()"
   ]
  },
  {
   "cell_type": "markdown",
   "id": "2aa68eea-a8bb-4b30-adde-6ea55ec9c627",
   "metadata": {},
   "source": [
    "For highest validation accuracy and lowest cost, we need to use a high learning rate on the order of ~0.01. There is not a large dependence on the accuracy in varying the regularization in the range tested. This indicates that the value of lambda is too low to impact the cost function calculation significantly, hence not creating a significant effect here. However, higher values of lambda perform significantly worse. Therefore, we find that reducing this problem to a non-regularized logistic regression allows the best results. The \"optimal hyperparameter values\" of $\\lambda = $ any low value and $\\epsilon = 10^{-3}$ were done before the hyperparameter tuning."
   ]
  },
  {
   "cell_type": "markdown",
   "id": "3e10689e-a845-4cc9-a963-a1f7ae43a4bd",
   "metadata": {},
   "source": [
    "### Question 3c\n",
    "Refer to page before code section for Q3c, where the questions in the assignment are given (LaTeX portion of Document)."
   ]
  },
  {
   "cell_type": "markdown",
   "id": "ad60c3c4-b573-42d6-8a40-7d4ecbb9f1f9",
   "metadata": {},
   "source": [
    "### Question 3d"
   ]
  },
  {
   "cell_type": "markdown",
   "id": "fab1204b-88fd-42f0-9316-7a2bcadae8d7",
   "metadata": {},
   "source": [
    "Although the code is mostly the same, we modify the gradient descent to only take one point per iteration, and reset our numpy seed to 42."
   ]
  },
  {
   "cell_type": "code",
   "execution_count": 380,
   "id": "0eda95c3-b24b-47bf-a71d-b44f743197ec",
   "metadata": {},
   "outputs": [],
   "source": [
    "import numpy as np\n",
    "from scipy import io\n",
    "import matplotlib.pyplot as plt\n",
    "from scipy.special import expit\n",
    "np.random.seed(42)\n",
    "\n",
    "data = io.loadmat(\"prep_data_wine.mat\")\n",
    "X, y = prep_data(Xinit, yinit)\n",
    "Xl, yl = prep_data(Xlinit, ylinit)"
   ]
  },
  {
   "cell_type": "code",
   "execution_count": 381,
   "id": "c4f3ab38-16dc-41c4-93b3-c788a3ae28d9",
   "metadata": {},
   "outputs": [],
   "source": [
    "def run_sgd(regp, lr, n = 10000):\n",
    "\n",
    "    def get_s(w):\n",
    "        return expit(xi.dot(w))\n",
    "    \n",
    "    def get_s_vec(w):\n",
    "        return expit(np.matmul(X, w))\n",
    "\n",
    "    def desc_iter(w, i):\n",
    "        s = get_s(w)\n",
    "        b = (y[i] - s) * xi\n",
    "        w_k = (1 - 2 * lr * regp) * w + lr * b\n",
    "        return w_k\n",
    "\n",
    "    def cost_fn(w):\n",
    "        s = get_s_vec(w)\n",
    "        cost = -(y.dot(np.log(s))) - (one - y).dot(np.log(one - s))\n",
    "        return cost\n",
    "\n",
    "    carr = []\n",
    "    sarr = []\n",
    "    warr = []\n",
    "    w = np.zeros(X.shape[1])\n",
    "    one = np.ones(X.shape[0])\n",
    "    rand = np.random.randint(0, X.shape[0], size = n)\n",
    "    for i in range(n):\n",
    "        j = rand[i]\n",
    "        xi = X[j]\n",
    "        warr.append(w)\n",
    "        carr.append(cost_fn(w))\n",
    "        sarr.append(get_s(w))\n",
    "        w = desc_iter(w, j)\n",
    "    return warr, carr\n",
    "\n",
    "def predict(X, w):\n",
    "    a = np.matmul(X, w)\n",
    "    return a > 0\n",
    "\n",
    "def get_tacc(X, y, w):\n",
    "    return np.sum(predict(X, w) == y) / len(y)\n",
    "\n",
    "def get_vacc(Xl, yl, w):\n",
    "    return np.sum(predict(Xl, w) == yl) / len(yl)"
   ]
  },
  {
   "cell_type": "code",
   "execution_count": 382,
   "id": "fe3c6fb8-1df8-448d-b7a1-7b13b5832744",
   "metadata": {
    "tags": []
   },
   "outputs": [],
   "source": [
    "regp = 1e-5\n",
    "lr = 0.1\n",
    "warr, carr = run_sgd(regp, lr, n = 10000)"
   ]
  },
  {
   "cell_type": "markdown",
   "id": "056150b6-c761-44e2-9288-fcfe852ad0b9",
   "metadata": {},
   "source": [
    "Below is the final cost of the optimization."
   ]
  },
  {
   "cell_type": "code",
   "execution_count": 383,
   "id": "d171083d-ff63-493b-b36f-c42768b7a19c",
   "metadata": {},
   "outputs": [
    {
     "data": {
      "text/plain": [
       "209.09365088055512"
      ]
     },
     "execution_count": 383,
     "metadata": {},
     "output_type": "execute_result"
    }
   ],
   "source": [
    "carr[-1]"
   ]
  },
  {
   "cell_type": "markdown",
   "id": "fc7e4e55-2e97-4ce7-9c80-3738f4461d57",
   "metadata": {},
   "source": [
    "Below is the training accuracy and number correct."
   ]
  },
  {
   "cell_type": "code",
   "execution_count": 384,
   "id": "82b09b3f-8413-438b-919d-f857cf6577e1",
   "metadata": {
    "tags": []
   },
   "outputs": [
    {
     "data": {
      "text/plain": [
       "0.9933333333333333"
      ]
     },
     "execution_count": 384,
     "metadata": {},
     "output_type": "execute_result"
    }
   ],
   "source": [
    "get_tacc(X, y, warr[-1])"
   ]
  },
  {
   "cell_type": "code",
   "execution_count": 385,
   "id": "6752e558-02bc-483e-97f6-697a06070fa4",
   "metadata": {
    "tags": []
   },
   "outputs": [
    {
     "name": "stdout",
     "output_type": "stream",
     "text": [
      "5364 / 5400\n"
     ]
    }
   ],
   "source": [
    "print(int(get_tacc(X, y, warr[-1]) * len(y)), \"/\" , len(y))"
   ]
  },
  {
   "cell_type": "markdown",
   "id": "bba4fe82-5eeb-4e11-bc86-fde48e8f6209",
   "metadata": {},
   "source": [
    "Below is the validation accuracy and number correct."
   ]
  },
  {
   "cell_type": "code",
   "execution_count": 386,
   "id": "d8e9fec4-1d37-43e9-b427-2f91c7e0fa23",
   "metadata": {
    "tags": []
   },
   "outputs": [
    {
     "data": {
      "text/plain": [
       "0.9916666666666667"
      ]
     },
     "execution_count": 386,
     "metadata": {},
     "output_type": "execute_result"
    }
   ],
   "source": [
    "get_vacc(Xl, yl, warr[-1])"
   ]
  },
  {
   "cell_type": "code",
   "execution_count": 387,
   "id": "99b6bd05-4197-4840-ba71-9535dcab02b6",
   "metadata": {},
   "outputs": [
    {
     "name": "stdout",
     "output_type": "stream",
     "text": [
      "595 / 600\n"
     ]
    }
   ],
   "source": [
    "print(int(get_vacc(Xl, yl, warr[-1]) * len(yl)), \"/\" , len(yl))"
   ]
  },
  {
   "cell_type": "markdown",
   "id": "78fa936f-8dbb-4ffa-82eb-6b25aed1a71d",
   "metadata": {},
   "source": [
    "Below is the cost function as a function of the number of iterations. The result for cost as a function of iterations is surprisingly stochastic, but it is likely due to the high learning rate input at the beginning. We find that this higher learning rate is better for a limited number of iterations (10000)."
   ]
  },
  {
   "cell_type": "code",
   "execution_count": 388,
   "id": "05761d4c-fbbb-42ef-8ec2-0eca20f3ce15",
   "metadata": {},
   "outputs": [
    {
     "data": {
      "text/plain": [
       "Text(0, 0.5, 'Log-Scaled Cost')"
      ]
     },
     "execution_count": 388,
     "metadata": {},
     "output_type": "execute_result"
    },
    {
     "data": {
      "image/png": "[encoded data removed]",
      "text/plain": [
       "<Figure size 432x288 with 1 Axes>"
      ]
     },
     "metadata": {
      "needs_background": "light"
     },
     "output_type": "display_data"
    }
   ],
   "source": [
    "plt.scatter(range(10000), carr, s = 0.2)\n",
    "plt.semilogy()\n",
    "plt.title(\"Cost J vs. Iterations (SGD)\")\n",
    "plt.xlabel(\"Number of Iterations\")\n",
    "plt.ylabel(\"Log-Scaled Cost\")"
   ]
  },
  {
   "cell_type": "markdown",
   "id": "8e486473-b407-4b6c-9942-b99b2a6a5b8a",
   "metadata": {},
   "source": [
    "I now tune for hyperparameters.  If we see below, what I do is make a grid of the possible hyperparameter permutations, and caculate the cost and validation accuracy in either case. With this information, I can make a guess as to what the ideal hyperparameter combination is. Above, I have redone my calculation with what I belive is near the optimal set of hyperparameters, based on the setup below."
   ]
  },
  {
   "cell_type": "code",
   "execution_count": 389,
   "id": "03a8acb4-11a4-4794-b5c7-944f9c34ed2a",
   "metadata": {},
   "outputs": [],
   "source": [
    "lr_rng = np.logspace(-6, -1, 6)\n",
    "reg_rng = np.logspace(-5, 2, 9)"
   ]
  },
  {
   "cell_type": "code",
   "execution_count": null,
   "id": "62a45d11-1931-40a6-b21b-2e8fa7d59a25",
   "metadata": {},
   "outputs": [],
   "source": [
    "def tune_hyp(X, y, Xl, yl, lr_rng, reg_rng):\n",
    "    hyps = np.array(np.meshgrid(lr_rng, reg_rng)).T\n",
    "    arr_cost = np.zeros(hyps.shape[:2])\n",
    "    arr_vacc = np.zeros(hyps.shape[:2])\n",
    "    \n",
    "    \n",
    "    for i in range(len(lr_rng)):\n",
    "        for j in range(len(reg_rng)):\n",
    "            lr, reg = hyps[i][j]\n",
    "            warr, carr = run_sgd(regp, lr, n = 10000)\n",
    "            vacc = get_vacc(Xl, yl, warr[-1])\n",
    "            arr_vacc[i][j] = vacc\n",
    "            arr_cost[i][j] = carr[-1]\n",
    "    \n",
    "    return arr_cost, arr_vacc, hyps\n",
    "    \n",
    "cost_sgd, vacc_sgd, hyps = tune_hyp(X, y, Xl, yl, lr_rng, reg_rng)"
   ]
  },
  {
   "cell_type": "code",
   "execution_count": 396,
   "id": "2506f9f0-00cc-445c-8bf8-b04ee1f2bfc0",
   "metadata": {
    "tags": []
   },
   "outputs": [
    {
     "data": {
      "text/plain": [
       "<matplotlib.colorbar.Colorbar at 0x7ff3dab3fe90>"
      ]
     },
     "execution_count": 396,
     "metadata": {},
     "output_type": "execute_result"
    },
    {
     "data": {
      "image/png": "[encoded data removed]",
      "text/plain": [
       "<Figure size 432x288 with 2 Axes>"
      ]
     },
     "metadata": {
      "needs_background": "light"
     },
     "output_type": "display_data"
    }
   ],
   "source": [
    "from matplotlib.colors import LogNorm\n",
    "plt.imshow(cost_sgd, cmap = 'viridis_r', norm = LogNorm(2e2, 4e3))\n",
    "plt.xticks(range(9), np.round(np.log10(hyps[:, :, 1][0]), 2))\n",
    "plt.yticks(range(6), np.round(np.log10(hyps[:, :].T[0][0])))\n",
    "plt.title(\"Cost J vs. $\\epsilon$ and $\\lambda$\")\n",
    "plt.xlabel(\"Log of Regularization Parameter $\\log{(\\lambda)}$\")\n",
    "plt.ylabel(\"Log of Learning Rate $\\log{(\\epsilon)}$\")\n",
    "plt.colorbar()"
   ]
  },
  {
   "cell_type": "code",
   "execution_count": 397,
   "id": "cd489159-10b0-4308-b262-6296263ad05b",
   "metadata": {
    "tags": []
   },
   "outputs": [
    {
     "data": {
      "text/plain": [
       "<matplotlib.colorbar.Colorbar at 0x7ff3dc703550>"
      ]
     },
     "execution_count": 397,
     "metadata": {},
     "output_type": "execute_result"
    },
    {
     "data": {
      "image/png": "[encoded data removed]",
      "text/plain": [
       "<Figure size 432x288 with 2 Axes>"
      ]
     },
     "metadata": {
      "needs_background": "light"
     },
     "output_type": "display_data"
    }
   ],
   "source": [
    "plt.imshow(vacc_sgd)\n",
    "plt.xticks(range(9), np.round(np.log10(hyps[:, :, 1][0]), 2))\n",
    "plt.yticks(range(6), np.round(np.log10(hyps[:, :].T[0][0])))\n",
    "plt.title(\"Validation Acc vs. $\\epsilon$ and $\\lambda$\")\n",
    "plt.xlabel(\"Log of Regularization Parameter $\\log{(\\lambda)}$\")\n",
    "plt.ylabel(\"Log of Learning Rate $\\log{(\\epsilon)}$\")\n",
    "plt.colorbar()"
   ]
  },
  {
   "cell_type": "markdown",
   "id": "611429d4-86c2-468b-be20-9c94ecdffa4e",
   "metadata": {},
   "source": [
    "For highest validation accuracy and lowest cost, therefore, we need to use a regularization parameter around 1 for this case, and a high learning rate, on the order of 0.1. The training done before the tuning was redone with this optimal set of hyperparameters."
   ]
  },
  {
   "cell_type": "markdown",
   "id": "e7994ffd-7fb5-4e17-b019-7c5f3ae60a02",
   "metadata": {
    "tags": []
   },
   "source": [
    "### Question 3e"
   ]
  },
  {
   "cell_type": "markdown",
   "id": "0b760224-a5e3-4492-acc7-67234c9edf70",
   "metadata": {},
   "source": [
    "I will now implement an adaptive learning rate into SGD. We use the learning rate suggested in the homework, lr = lr_init / (iterations). We set the random seed to 24."
   ]
  },
  {
   "cell_type": "code",
   "execution_count": 41,
   "id": "9f67d615-5362-460e-beba-86331c23ee11",
   "metadata": {},
   "outputs": [],
   "source": [
    "import numpy as np\n",
    "from scipy import io\n",
    "import matplotlib.pyplot as plt\n",
    "from scipy.special import expit\n",
    "np.random.seed(24)\n",
    "\n",
    "data = io.loadmat(\"prep_data_wine.mat\")\n",
    "\n",
    "Xinit = data['training_data']\n",
    "yinit = data['training_labels']\n",
    "Xlinit = data['valid_data']\n",
    "ylinit = data['valid_labels']\n",
    "\n",
    "def prep_data(Xinit, yinit):\n",
    "    Xinit = (Xinit - np.mean(Xinit, axis = 0)) / (np.std(Xinit, axis = 0) + 1e-3)\n",
    "    j = np.ones(Xinit.shape[0])\n",
    "    X = np.concatenate([Xinit, j[:, np.newaxis]], axis = 1)\n",
    "    y = yinit.T[0]\n",
    "    return X, y\n",
    "\n",
    "data = io.loadmat(\"prep_data_wine.mat\")\n",
    "X, y = prep_data(Xinit, yinit)\n",
    "Xl, yl = prep_data(Xlinit, ylinit)"
   ]
  },
  {
   "cell_type": "code",
   "execution_count": 42,
   "id": "f502b1a6-2a98-4e82-9e7c-db1b1b034c47",
   "metadata": {},
   "outputs": [],
   "source": [
    "def run_adasgd(regp, lr, n = 10000):\n",
    "\n",
    "    def get_s(w):\n",
    "        return expit(xi.dot(w))\n",
    "    \n",
    "    def get_s_vec(w):\n",
    "        a = expit(np.matmul(X, w))\n",
    "        if 1 in a:\n",
    "            a[np.where(a == 1)] = 0.9999\n",
    "        return a\n",
    "\n",
    "    def desc_iter(w, i):\n",
    "        lr_iter = lr / (i + 1) # ADAPTIVE LEARNING RATE IMPLEMENTED\n",
    "        s = get_s(w)\n",
    "        b = (y[i] - s) * xi\n",
    "        w_k = (1 - 2 * lr_iter * regp) * w + lr_iter * b\n",
    "        return w_k\n",
    "\n",
    "    def cost_fn(w):\n",
    "        s = get_s_vec(w)\n",
    "        cost = -(y.dot(np.log(s))) - (one - y).dot(np.log(one - s))\n",
    "        return cost\n",
    "\n",
    "    carr = []\n",
    "    warr = []\n",
    "    w = np.zeros(X.shape[1])\n",
    "    one = np.ones(X.shape[0])\n",
    "    rand = np.random.randint(0, X.shape[0], size = n)\n",
    "    for i in range(n):\n",
    "        j = rand[i]\n",
    "        xi = X[j]\n",
    "        warr.append(w)\n",
    "        carr.append(cost_fn(w))\n",
    "        w = desc_iter(w, j)\n",
    "    return warr, carr\n",
    "\n",
    "def predict(X, w):\n",
    "    a = np.matmul(X, w)\n",
    "    return a > 0\n",
    "\n",
    "def get_tacc(X, y, w):\n",
    "    return np.sum(predict(X, w) == y) / len(y)\n",
    "\n",
    "def get_vacc(Xl, yl, w):\n",
    "    return np.sum(predict(Xl, w) == yl) / len(yl)"
   ]
  },
  {
   "cell_type": "code",
   "execution_count": 43,
   "id": "d37e63ed-1028-44b0-b14f-e478267e1b85",
   "metadata": {
    "tags": []
   },
   "outputs": [],
   "source": [
    "regp = 1e-4\n",
    "lr = 10\n",
    "warr, carr = run_adasgd(regp, lr, n = 10000)"
   ]
  },
  {
   "cell_type": "markdown",
   "id": "144f183b-25fc-498c-b00e-99899734ff8f",
   "metadata": {},
   "source": [
    "Below is the final cost of the optimization."
   ]
  },
  {
   "cell_type": "code",
   "execution_count": 44,
   "id": "032afd5d-418a-49a8-a965-db30d20a52bf",
   "metadata": {},
   "outputs": [
    {
     "data": {
      "text/plain": [
       "270.98773491788694"
      ]
     },
     "execution_count": 44,
     "metadata": {},
     "output_type": "execute_result"
    }
   ],
   "source": [
    "carr[-1]"
   ]
  },
  {
   "cell_type": "markdown",
   "id": "2afd8ba3-3cc3-4f8e-94af-9c6d2d43f4e2",
   "metadata": {},
   "source": [
    "Below is the training accuracy and number correct."
   ]
  },
  {
   "cell_type": "code",
   "execution_count": 45,
   "id": "b5176a5d-769f-4556-b000-4ecf50271fca",
   "metadata": {
    "tags": []
   },
   "outputs": [
    {
     "data": {
      "text/plain": [
       "0.9892592592592593"
      ]
     },
     "execution_count": 45,
     "metadata": {},
     "output_type": "execute_result"
    }
   ],
   "source": [
    "get_tacc(X, y, warr[-1])"
   ]
  },
  {
   "cell_type": "code",
   "execution_count": 46,
   "id": "58d86120-9fe1-4224-8963-dc08bf65141b",
   "metadata": {
    "tags": []
   },
   "outputs": [
    {
     "name": "stdout",
     "output_type": "stream",
     "text": [
      "5342 / 5400\n"
     ]
    }
   ],
   "source": [
    "print(int(get_tacc(X, y, warr[-1]) * len(y)), \"/\" , len(y))"
   ]
  },
  {
   "cell_type": "markdown",
   "id": "a4f5e165-6dd9-483a-bc19-eed3ea1e3e8c",
   "metadata": {},
   "source": [
    "Below is the validation accuracy and number correct."
   ]
  },
  {
   "cell_type": "code",
   "execution_count": 47,
   "id": "293173e5-bb58-4aef-9c3a-3336425ceb21",
   "metadata": {
    "tags": []
   },
   "outputs": [
    {
     "data": {
      "text/plain": [
       "0.9883333333333333"
      ]
     },
     "execution_count": 47,
     "metadata": {},
     "output_type": "execute_result"
    }
   ],
   "source": [
    "get_vacc(Xl, yl, warr[-1])"
   ]
  },
  {
   "cell_type": "code",
   "execution_count": 48,
   "id": "b1f6210f-938d-4b6a-886c-b106ce50475b",
   "metadata": {},
   "outputs": [
    {
     "name": "stdout",
     "output_type": "stream",
     "text": [
      "593 / 600\n"
     ]
    }
   ],
   "source": [
    "print(int(get_vacc(Xl, yl, warr[-1]) * len(yl)), \"/\" , len(yl))"
   ]
  },
  {
   "cell_type": "markdown",
   "id": "4fa16fdf-4d4e-4d0f-b445-beec6004c9a7",
   "metadata": {},
   "source": [
    "Below is the cost function as a function of the number of iterations. The result for cost as a function of iterations is surprisingly stochastic, but it is likely due to the high learning rate input at the beginning. We find that this higher learning rate is better for a limited number of iterations (10000)."
   ]
  },
  {
   "cell_type": "code",
   "execution_count": 49,
   "id": "8f079caf-853e-49b5-ad64-3ad84e3fff23",
   "metadata": {},
   "outputs": [
    {
     "data": {
      "text/plain": [
       "Text(0, 0.5, 'Log-Scaled Cost')"
      ]
     },
     "execution_count": 49,
     "metadata": {},
     "output_type": "execute_result"
    },
    {
     "data": {
      "image/png": "[encoded data removed]",
      "text/plain": [
       "<Figure size 432x288 with 1 Axes>"
      ]
     },
     "metadata": {
      "needs_background": "light"
     },
     "output_type": "display_data"
    }
   ],
   "source": [
    "plt.scatter(range(10000), carr, s = 0.2)\n",
    "plt.semilogy()\n",
    "plt.title(\"Cost J vs. Iterations (ADASGD)\")\n",
    "plt.xlabel(\"Number of Iterations\")\n",
    "plt.ylabel(\"Log-Scaled Cost\")"
   ]
  },
  {
   "cell_type": "code",
   "execution_count": 36,
   "id": "fb34055f-8a02-4415-9001-e532eeb72ccb",
   "metadata": {},
   "outputs": [],
   "source": [
    "lr_rng = np.logspace(-3, 2, 6)\n",
    "reg_rng = np.logspace(-5, 2, 9)"
   ]
  },
  {
   "cell_type": "code",
   "execution_count": 37,
   "id": "8cac466e-0517-4ef0-bd53-2e78492298c6",
   "metadata": {},
   "outputs": [
    {
     "name": "stderr",
     "output_type": "stream",
     "text": [
      "/Users/shri/opt/miniconda3/envs/astroconda/lib/python3.7/site-packages/ipykernel_launcher.py:21: RuntimeWarning: divide by zero encountered in log\n"
     ]
    }
   ],
   "source": [
    "def tune_hyp_ada(X, y, Xl, yl, lr_rng, reg_rng):\n",
    "    hyps = np.array(np.meshgrid(lr_rng, reg_rng)).T\n",
    "    arr_cost = np.zeros(hyps.shape[:2])\n",
    "    arr_vacc = np.zeros(hyps.shape[:2])\n",
    "    \n",
    "    \n",
    "    for i in range(len(lr_rng)):\n",
    "        for j in range(len(reg_rng)):\n",
    "            lr, reg = hyps[i][j]\n",
    "            warr, carr = run_adasgd(regp, lr, n = 10000)\n",
    "            vacc = get_vacc(Xl, yl, warr[-1])\n",
    "            arr_vacc[i][j] = vacc\n",
    "            arr_cost[i][j] = carr[-1]\n",
    "    \n",
    "    return arr_cost, arr_vacc, hyps\n",
    "    \n",
    "cost_ada, vacc_ada, hyps = tune_hyp_ada(X, y, Xl, yl, lr_rng, reg_rng)"
   ]
  },
  {
   "cell_type": "code",
   "execution_count": 38,
   "id": "2c9682a1-bda7-42e4-bc60-c4fe001f67de",
   "metadata": {},
   "outputs": [
    {
     "data": {
      "text/plain": [
       "<matplotlib.colorbar.Colorbar at 0x7fe41028f190>"
      ]
     },
     "execution_count": 38,
     "metadata": {},
     "output_type": "execute_result"
    },
    {
     "data": {
      "image/png": "[encoded data removed]",
      "text/plain": [
       "<Figure size 432x288 with 2 Axes>"
      ]
     },
     "metadata": {
      "needs_background": "light"
     },
     "output_type": "display_data"
    }
   ],
   "source": [
    "from matplotlib.colors import LogNorm\n",
    "plt.imshow(cost_ada, cmap = 'viridis_r')#, norm = LogNorm(2e2, 4e3))\n",
    "plt.xticks(range(9), np.round(np.log10(hyps[:, :, 1][0]), 2))\n",
    "plt.yticks(range(6), np.round(np.log10(hyps[:, :].T[0][0])))\n",
    "plt.title(\"Cost J vs. $\\epsilon$ and $\\lambda$\")\n",
    "plt.xlabel(\"Log of Regularization Parameter $\\log{(\\lambda)}$\")\n",
    "plt.ylabel(\"Log of Learning Rate $\\log{(\\epsilon)}$\")\n",
    "plt.colorbar()"
   ]
  },
  {
   "cell_type": "code",
   "execution_count": 39,
   "id": "84a12a5f-a79f-4bdb-858c-902ae719cb08",
   "metadata": {},
   "outputs": [
    {
     "data": {
      "text/plain": [
       "<matplotlib.colorbar.Colorbar at 0x7fe3f056d690>"
      ]
     },
     "execution_count": 39,
     "metadata": {},
     "output_type": "execute_result"
    },
    {
     "data": {
      "image/png": "[encoded data removed]",
      "text/plain": [
       "<Figure size 432x288 with 2 Axes>"
      ]
     },
     "metadata": {
      "needs_background": "light"
     },
     "output_type": "display_data"
    }
   ],
   "source": [
    "plt.imshow(vacc_ada)\n",
    "plt.xticks(range(9), np.round(np.log10(hyps[:, :, 1][0]), 2))\n",
    "plt.yticks(range(6), np.round(np.log10(hyps[:, :].T[0][0])))\n",
    "plt.title(\"Validation Acc vs. $\\epsilon$ and $\\lambda$\")\n",
    "plt.xlabel(\"Log of Regularization Parameter $\\log{(\\lambda)}$\")\n",
    "plt.ylabel(\"Log of Learning Rate $\\log{(\\epsilon)}$\")\n",
    "plt.colorbar()"
   ]
  },
  {
   "cell_type": "markdown",
   "id": "a9824ccb-8727-40d4-9d8d-f5e347af82d8",
   "metadata": {},
   "source": [
    "For highest validation accuracy and lowest cost, therefore, we need to use a regularization parameter around 1e-4 for this case, and a high learning rate, on the order of 10. The training done before the tuning was redone with this optimal set of hyperparameters. There is some stochasticity in these results due to lack of significant cross validation. However, it was mentioned on Piazza that we would not be penalized for not performing crossvalidation."
   ]
  },
  {
   "cell_type": "markdown",
   "id": "f8d2b2d4-fa42-4d4c-8b63-87bf4951ab8f",
   "metadata": {
    "tags": []
   },
   "source": [
    "### Question 3f"
   ]
  },
  {
   "cell_type": "markdown",
   "id": "5caa6297-7459-4d1e-a309-26a8e02c2bf4",
   "metadata": {},
   "source": [
    "**Kaggle Username: Shrihan Agarwal**  \n",
    "**Kaggle Score: 98.792**  \n"
   ]
  },
  {
   "cell_type": "markdown",
   "id": "f6f86b3e-28c4-410e-956d-56291c67b157",
   "metadata": {},
   "source": [
    "For Kaggle, I take the SGD from the previous part, increase the number of iterations to 100000, and reduce the regp value to 0, removing regularization. Additionally, I implement a modified learning rate, which drops as:  \n",
    "0.1: 1 - 1000  \n",
    "0.015: 1000-5000  \n",
    "1e-2: 5000-10000  \n",
    "1e-3: 10000-50000  \n",
    "1e-5: 50000-100000  \n",
    "iterations. We set the random seed to 24."
   ]
  },
  {
   "cell_type": "code",
   "execution_count": 65,
   "id": "01096c4c-1d5a-41ed-9543-b48b498743a9",
   "metadata": {},
   "outputs": [],
   "source": [
    "import numpy as np\n",
    "from scipy import io\n",
    "import matplotlib.pyplot as plt\n",
    "from scipy.special import expit\n",
    "np.random.seed(24)\n",
    "\n",
    "data = io.loadmat(\"prep_data_wine.mat\")\n",
    "\n",
    "Xinit = data['training_data']\n",
    "yinit = data['training_labels']\n",
    "Xlinit = data['valid_data']\n",
    "ylinit = data['valid_labels']\n",
    "\n",
    "def prep_data(Xinit, yinit):\n",
    "    Xinit = (Xinit - np.mean(Xinit, axis = 0)) / (np.std(Xinit, axis = 0) + 1e-3)\n",
    "    j = np.ones(Xinit.shape[0])\n",
    "    X = np.concatenate([Xinit, j[:, np.newaxis]], axis = 1)\n",
    "    y = yinit.T[0]\n",
    "    return X, y\n",
    "\n",
    "data = io.loadmat(\"prep_data_wine.mat\")\n",
    "X, y = prep_data(Xinit, yinit)\n",
    "Xl, yl = prep_data(Xlinit, ylinit)"
   ]
  },
  {
   "cell_type": "code",
   "execution_count": 66,
   "id": "42856687-9961-4206-aa21-da2043cf7a75",
   "metadata": {},
   "outputs": [],
   "source": [
    "def run_optsgd(regp, n = 10000):\n",
    "    \n",
    "    def lr_scheduler(it):\n",
    "        if it < 1000:\n",
    "            return 0.1\n",
    "        elif it < 5000:\n",
    "            return 0.015\n",
    "        elif it < 10000:\n",
    "            return 1e-2\n",
    "        elif it < 50000:\n",
    "            return 1e-3\n",
    "        else:\n",
    "            return 1e-5\n",
    "\n",
    "    def get_s(w):\n",
    "        return expit(xi.dot(w))\n",
    "    \n",
    "    def get_s_vec(w):\n",
    "        a = expit(np.matmul(X, w))\n",
    "        #if 1 in a:\n",
    "        #    a[np.where(a == 1)] = 0.9999\n",
    "        return a\n",
    "\n",
    "    def desc_iter(w, i, j):\n",
    "        lr_fix = 0.1\n",
    "        lr_iter = lr_scheduler(i) # ADAPTIVE LEARNING RATE IMPLEMENTED\n",
    "        s = get_s(w)\n",
    "        b = (y[j] - s) * xi\n",
    "        w_k = (1 - 2 * lr_iter * regp) * w + lr_iter * b\n",
    "        return w_k\n",
    "\n",
    "    def cost_fn(w):\n",
    "        s = get_s_vec(w)\n",
    "        cost = -(y.dot(np.log(s))) - (one - y).dot(np.log(one - s))\n",
    "        return cost\n",
    "\n",
    "    carr = []\n",
    "    warr = []\n",
    "    w = np.zeros(X.shape[1])\n",
    "    one = np.ones(X.shape[0])\n",
    "    rand = np.random.randint(0, X.shape[0], size = n)\n",
    "    for i in range(n):\n",
    "        j = rand[i]\n",
    "        xi = X[j]\n",
    "        warr.append(w)\n",
    "        carr.append(cost_fn(w))\n",
    "        w = desc_iter(w, i, j)\n",
    "    return warr, carr\n",
    "\n",
    "def predict(X, w):\n",
    "    a = np.matmul(X, w)\n",
    "    return a > 0\n",
    "\n",
    "def get_tacc(X, y, w):\n",
    "    return np.sum(predict(X, w) == y) / len(y)\n",
    "\n",
    "def get_vacc(Xl, yl, w):\n",
    "    return np.sum(predict(Xl, w) == yl) / len(yl)"
   ]
  },
  {
   "cell_type": "code",
   "execution_count": 67,
   "id": "7108f516-03e8-40ad-a371-f25d179a6b2c",
   "metadata": {
    "tags": []
   },
   "outputs": [],
   "source": [
    "regp = 0\n",
    "warr, carr = run_optsgd(regp, n = 100000)"
   ]
  },
  {
   "cell_type": "markdown",
   "id": "4e5d9623-9b3e-4d2c-97b0-109305a9294f",
   "metadata": {},
   "source": [
    "Below is the final cost of the optimization."
   ]
  },
  {
   "cell_type": "code",
   "execution_count": 68,
   "id": "17275bd9-6c1b-4fe5-9261-b5f5fead1e49",
   "metadata": {},
   "outputs": [
    {
     "data": {
      "text/plain": [
       "226.93814805283512"
      ]
     },
     "execution_count": 68,
     "metadata": {},
     "output_type": "execute_result"
    }
   ],
   "source": [
    "carr[-1]"
   ]
  },
  {
   "cell_type": "markdown",
   "id": "6dd0da56-5ad5-4962-bca7-5870bab4adbc",
   "metadata": {},
   "source": [
    "Below is the training accuracy and number correct."
   ]
  },
  {
   "cell_type": "code",
   "execution_count": 69,
   "id": "baca94d8-9af8-43a7-a336-d22ac3a92274",
   "metadata": {
    "tags": []
   },
   "outputs": [
    {
     "data": {
      "text/plain": [
       "0.9912962962962963"
      ]
     },
     "execution_count": 69,
     "metadata": {},
     "output_type": "execute_result"
    }
   ],
   "source": [
    "get_tacc(X, y, warr[-1])"
   ]
  },
  {
   "cell_type": "code",
   "execution_count": 70,
   "id": "884bed8e-2c6f-4306-97d8-e629f57cb246",
   "metadata": {
    "tags": []
   },
   "outputs": [
    {
     "name": "stdout",
     "output_type": "stream",
     "text": [
      "5353 / 5400\n"
     ]
    }
   ],
   "source": [
    "print(int(get_tacc(X, y, warr[-1]) * len(y)), \"/\" , len(y))"
   ]
  },
  {
   "cell_type": "markdown",
   "id": "f47dad3b-65cb-483b-9e6f-d097e66db247",
   "metadata": {},
   "source": [
    "Below is the validation accuracy and number correct."
   ]
  },
  {
   "cell_type": "code",
   "execution_count": 71,
   "id": "052060ff-bf1b-4c78-8e29-58a3932ae336",
   "metadata": {
    "tags": []
   },
   "outputs": [
    {
     "data": {
      "text/plain": [
       "0.99"
      ]
     },
     "execution_count": 71,
     "metadata": {},
     "output_type": "execute_result"
    }
   ],
   "source": [
    "get_vacc(Xl, yl, warr[-1])"
   ]
  },
  {
   "cell_type": "code",
   "execution_count": 72,
   "id": "0674b54a-a0df-43d3-8cf8-ed1389b25ab1",
   "metadata": {},
   "outputs": [
    {
     "name": "stdout",
     "output_type": "stream",
     "text": [
      "594 / 600\n"
     ]
    }
   ],
   "source": [
    "print(int(get_vacc(Xl, yl, warr[-1]) * len(yl)), \"/\" , len(yl))"
   ]
  },
  {
   "cell_type": "markdown",
   "id": "abd8d2fb-5303-489f-8421-78b3a9ea8738",
   "metadata": {},
   "source": [
    "Below is the cost function as a function of the number of iterations. The result for cost as a function of iterations is surprisingly stochastic, but it is likely due to the high learning rate input at the beginning. We find that this higher learning rate is better for a limited number of iterations (10000)."
   ]
  },
  {
   "cell_type": "code",
   "execution_count": 73,
   "id": "6c9bca2e-16ab-4b96-a928-99bfd93e8a40",
   "metadata": {},
   "outputs": [
    {
     "data": {
      "text/plain": [
       "Text(0, 0.5, 'Log-Scaled Cost')"
      ]
     },
     "execution_count": 73,
     "metadata": {},
     "output_type": "execute_result"
    },
    {
     "data": {
      "image/png": "[encoded data removed]",
      "text/plain": [
       "<Figure size 432x288 with 1 Axes>"
      ]
     },
     "metadata": {
      "needs_background": "light"
     },
     "output_type": "display_data"
    }
   ],
   "source": [
    "plt.scatter(range(100000), carr, s = 0.2)\n",
    "plt.semilogy()\n",
    "plt.title(\"Cost J vs. Iterations (OPTSGD)\")\n",
    "plt.xlabel(\"Number of Iterations\")\n",
    "plt.ylabel(\"Log-Scaled Cost\")"
   ]
  },
  {
   "cell_type": "code",
   "execution_count": 128,
   "id": "877ff7fd-02e2-4566-8d91-eb7edc63ceda",
   "metadata": {},
   "outputs": [],
   "source": [
    "Xtot = data['X']\n",
    "ytot = data['y']\n",
    "Xtest = data['X_test']\n",
    "\n",
    "X, y = prep_data(Xtot, ytot)\n",
    "Xt, yt = prep_data(Xtest, y)"
   ]
  },
  {
   "cell_type": "code",
   "execution_count": 129,
   "id": "66a365f0-b412-4114-80fa-1e701da6a0a2",
   "metadata": {},
   "outputs": [],
   "source": [
    "regp = 0\n",
    "warr, carr = run_optsgd(regp, n = 100000)"
   ]
  },
  {
   "cell_type": "code",
   "execution_count": 130,
   "id": "fe02c6da-558e-4ede-8afa-0e169f1f431c",
   "metadata": {},
   "outputs": [
    {
     "data": {
      "text/plain": [
       "250.9119945114058"
      ]
     },
     "execution_count": 130,
     "metadata": {},
     "output_type": "execute_result"
    }
   ],
   "source": [
    "carr[-1]"
   ]
  },
  {
   "cell_type": "code",
   "execution_count": 131,
   "id": "5f55e609-50e9-44a8-84f0-683cd792e9dd",
   "metadata": {},
   "outputs": [
    {
     "data": {
      "text/plain": [
       "0.991"
      ]
     },
     "execution_count": 131,
     "metadata": {},
     "output_type": "execute_result"
    }
   ],
   "source": [
    "get_tacc(X, y, warr[-1])"
   ]
  },
  {
   "cell_type": "code",
   "execution_count": 132,
   "id": "77452407-6d8a-4a6c-ae6f-bbcc3f891fa0",
   "metadata": {},
   "outputs": [
    {
     "name": "stdout",
     "output_type": "stream",
     "text": [
      "5946 / 6000\n"
     ]
    }
   ],
   "source": [
    "print(int(get_tacc(X, y, warr[-1]) * len(y)), \"/\" , len(y))"
   ]
  },
  {
   "cell_type": "code",
   "execution_count": 133,
   "id": "0d562826-520e-444e-bd19-ec12ec1e6de1",
   "metadata": {},
   "outputs": [
    {
     "data": {
      "text/plain": [
       "Text(0, 0.5, 'Log-Scaled Cost')"
      ]
     },
     "execution_count": 133,
     "metadata": {},
     "output_type": "execute_result"
    },
    {
     "data": {
      "image/png": "[encoded data removed]",
      "text/plain": [
       "<Figure size 432x288 with 1 Axes>"
      ]
     },
     "metadata": {
      "needs_background": "light"
     },
     "output_type": "display_data"
    }
   ],
   "source": [
    "plt.scatter(range(100000), carr, s = 0.2)\n",
    "plt.semilogy()\n",
    "plt.title(\"Cost J vs. Iterations (ADASGD)\")\n",
    "plt.xlabel(\"Number of Iterations\")\n",
    "plt.ylabel(\"Log-Scaled Cost\")"
   ]
  },
  {
   "cell_type": "code",
   "execution_count": 139,
   "id": "b2df4ab4-0f53-45f7-bea9-2921e2656460",
   "metadata": {
    "tags": []
   },
   "outputs": [],
   "source": [
    "pred = predict(Xt, warr[-1])"
   ]
  },
  {
   "cell_type": "code",
   "execution_count": 141,
   "id": "ff404df9-179a-4ba2-b0a5-3e66be4fc483",
   "metadata": {},
   "outputs": [],
   "source": [
    "idx = list(range(1, len(pred) + 1))"
   ]
  },
  {
   "cell_type": "code",
   "execution_count": 143,
   "id": "8a8268b2-e3df-426b-a983-c354f8caf064",
   "metadata": {},
   "outputs": [],
   "source": [
    "pre_csv = np.array(list(zip(idx, pred)), dtype = int)"
   ]
  },
  {
   "cell_type": "code",
   "execution_count": 144,
   "id": "becd8599-da6b-4f17-a790-97bb255e0b90",
   "metadata": {},
   "outputs": [],
   "source": [
    "np.savetxt(\"shri_pred_optsgd.csv\", pre_csv, fmt = '%s', delimiter=',')"
   ]
  },
  {
   "cell_type": "markdown",
   "id": "090598dd-bc80-49f6-bc51-c870547b1916",
   "metadata": {},
   "source": [
    "The above did not perform so well, with an accuracy of only 98.784. I try other methods, but they don't seem to do significantly better on Kaggle."
   ]
  },
  {
   "cell_type": "markdown",
   "id": "8980f63d-98ab-425d-9a75-a934fb480102",
   "metadata": {},
   "source": [
    "**Kaggle Username: Shrihan Agarwal**  \n",
    "**Kaggle Score: 98.792**  \n"
   ]
  },
  {
   "cell_type": "markdown",
   "id": "489abf41-fd68-4959-9fcf-7eb47e8f58d8",
   "metadata": {
    "jp-MarkdownHeadingCollapsed": true,
    "tags": []
   },
   "source": [
    "### Other Attempts for 3f"
   ]
  },
  {
   "cell_type": "markdown",
   "id": "464f9d8c-c8ea-430c-ac8b-a773ef82a5b1",
   "metadata": {},
   "source": [
    "Below, we return to a normal GD method for Kaggle, with an adaptive learning rate, according to the LR scheduler function I created, which starts at 1e-2, and drops progressively by multiples of 10 at 1000, 5000, 10000 iterations."
   ]
  },
  {
   "cell_type": "code",
   "execution_count": 64,
   "id": "c5d0405f-d2ab-4a69-8ce9-26f6caf85adf",
   "metadata": {},
   "outputs": [],
   "source": [
    "import numpy as np\n",
    "from scipy import io\n",
    "import matplotlib.pyplot as plt\n",
    "from scipy.special import expit\n",
    "np.random.seed(42)\n",
    "\n",
    "data = io.loadmat(\"prep_data_wine.mat\")\n",
    "\n",
    "Xinit = data['training_data']\n",
    "yinit = data['training_labels']\n",
    "Xlinit = data['valid_data']\n",
    "ylinit = data['valid_labels']\n",
    "\n",
    "def prep_data(Xinit, yinit):\n",
    "    Xinit = (Xinit - np.mean(Xinit, axis = 0)) / (np.std(Xinit, axis = 0) + 1e-3)\n",
    "    j = np.ones(Xinit.shape[0])\n",
    "    X = np.concatenate([Xinit, j[:, np.newaxis]], axis = 1)\n",
    "    y = yinit.T[0]\n",
    "    return X, y\n",
    "\n",
    "data = io.loadmat(\"prep_data_wine.mat\")\n",
    "X, y = prep_data(Xinit, yinit)\n",
    "Xl, yl = prep_data(Xlinit, ylinit)"
   ]
  },
  {
   "cell_type": "code",
   "execution_count": 44,
   "id": "d1e44167-80a1-4545-8cb1-80a4f8c22f58",
   "metadata": {},
   "outputs": [],
   "source": [
    "def run_mod_gd(regp, n = 10000):\n",
    "    \n",
    "    def lr_scheduler(it):\n",
    "        if it < 1000:\n",
    "            return 1e-2\n",
    "        elif it < 5000:\n",
    "            return 1e-3\n",
    "        elif it < 10000:\n",
    "            return 1e-4\n",
    "    \n",
    "    def get_s(w):\n",
    "        return expit(np.matmul(X, w))\n",
    "\n",
    "    w = np.zeros(X.shape[1])\n",
    "    one = np.ones(X.shape[0])\n",
    "\n",
    "    def desc_iter(w, i):\n",
    "        s = get_s(w)\n",
    "        lr = lr_scheduler(i)\n",
    "        b = np.matmul(X.T, y - s)\n",
    "        w_k = (1 - 2 * lr * regp) * w + lr * b\n",
    "        return w_k\n",
    "\n",
    "    def cost_fn(w):\n",
    "        s = get_s(w)\n",
    "        cost = -(y.dot(np.log(s))) - (one - y).dot(np.log(one - s))\n",
    "        return cost\n",
    "\n",
    "    carr = []\n",
    "    sarr = []\n",
    "    warr = []\n",
    "    for i in range(n):\n",
    "        warr.append(w)\n",
    "        carr.append(cost_fn(w))\n",
    "        sarr.append(get_s(w))\n",
    "        w = desc_iter(w, i)\n",
    "    return warr, carr\n",
    "\n",
    "def predict(X, w):\n",
    "    a = np.matmul(X, w)\n",
    "    return a > 0\n",
    "\n",
    "def get_tacc(X, y, w):\n",
    "    return np.sum(predict(X, w) == y) / len(y)\n",
    "\n",
    "def get_vacc(Xl, yl, w):\n",
    "    return np.sum(predict(Xl, w) == yl) / len(yl)"
   ]
  },
  {
   "cell_type": "code",
   "execution_count": 45,
   "id": "f2fead6d-a400-4c6c-a3e3-e595e1a34e2c",
   "metadata": {
    "tags": []
   },
   "outputs": [
    {
     "name": "stderr",
     "output_type": "stream",
     "text": [
      "/Users/shri/opt/miniconda3/envs/astroconda/lib/python3.7/site-packages/ipykernel_launcher.py:26: RuntimeWarning: divide by zero encountered in log\n"
     ]
    }
   ],
   "source": [
    "regp = 0\n",
    "warr, carr = run_mod_gd(regp, n = 10000)"
   ]
  },
  {
   "cell_type": "markdown",
   "id": "894805c6-9f40-425f-b6a2-d4c947621c84",
   "metadata": {},
   "source": [
    "Below is the final cost of the optimization."
   ]
  },
  {
   "cell_type": "code",
   "execution_count": 46,
   "id": "72f4c77b-0f8c-461a-98a2-a1652c39961b",
   "metadata": {},
   "outputs": [
    {
     "data": {
      "text/plain": [
       "176.23354305067517"
      ]
     },
     "execution_count": 46,
     "metadata": {},
     "output_type": "execute_result"
    }
   ],
   "source": [
    "carr[-1]"
   ]
  },
  {
   "cell_type": "markdown",
   "id": "307b2fde-639b-4854-87ad-267f00c63d9e",
   "metadata": {},
   "source": [
    "Below is the training accuracy and number correct."
   ]
  },
  {
   "cell_type": "code",
   "execution_count": 47,
   "id": "53684c2b-e94f-4288-809a-29815c3d4041",
   "metadata": {
    "tags": []
   },
   "outputs": [
    {
     "data": {
      "text/plain": [
       "0.9953703703703703"
      ]
     },
     "execution_count": 47,
     "metadata": {},
     "output_type": "execute_result"
    }
   ],
   "source": [
    "get_tacc(X, y, warr[-1])"
   ]
  },
  {
   "cell_type": "code",
   "execution_count": 48,
   "id": "f23f85f6-ec09-4bcf-a0a3-a9c591a450be",
   "metadata": {
    "tags": []
   },
   "outputs": [
    {
     "name": "stdout",
     "output_type": "stream",
     "text": [
      "5375 / 5400\n"
     ]
    }
   ],
   "source": [
    "print(int(get_tacc(X, y, warr[-1]) * len(y)), \"/\" , len(y))"
   ]
  },
  {
   "cell_type": "markdown",
   "id": "3728631b-4076-42bd-ae1d-fe6ad2da4ec6",
   "metadata": {},
   "source": [
    "Below is the validation accuracy and number correct."
   ]
  },
  {
   "cell_type": "code",
   "execution_count": 49,
   "id": "4f7e03d1-14cb-4204-9400-76cff2e24f0d",
   "metadata": {
    "tags": []
   },
   "outputs": [
    {
     "data": {
      "text/plain": [
       "0.9933333333333333"
      ]
     },
     "execution_count": 49,
     "metadata": {},
     "output_type": "execute_result"
    }
   ],
   "source": [
    "get_vacc(Xl, yl, warr[-1])"
   ]
  },
  {
   "cell_type": "code",
   "execution_count": 50,
   "id": "d47cdfb7-de3c-40dc-b9a8-d26b2753d439",
   "metadata": {},
   "outputs": [
    {
     "name": "stdout",
     "output_type": "stream",
     "text": [
      "596 / 600\n"
     ]
    }
   ],
   "source": [
    "print(int(get_vacc(Xl, yl, warr[-1]) * len(yl)), \"/\" , len(yl))"
   ]
  },
  {
   "cell_type": "markdown",
   "id": "bf5d41f8-71c4-4a90-adf2-eb917d87cad1",
   "metadata": {},
   "source": [
    "Below is the cost function as a function of the number of iterations. The result for cost as a function of iterations is surprisingly stochastic, but it is likely due to the high learning rate input at the beginning. We find that this higher learning rate is better for a limited number of iterations (10000)."
   ]
  },
  {
   "cell_type": "code",
   "execution_count": 51,
   "id": "229cfc3e-ae65-4910-b2e6-012813c5fc8e",
   "metadata": {},
   "outputs": [
    {
     "data": {
      "text/plain": [
       "Text(0, 0.5, 'Log-Scaled Cost')"
      ]
     },
     "execution_count": 51,
     "metadata": {},
     "output_type": "execute_result"
    },
    {
     "data": {
      "image/png": "[encoded data removed]",
      "text/plain": [
       "<Figure size 432x288 with 1 Axes>"
      ]
     },
     "metadata": {
      "needs_background": "light"
     },
     "output_type": "display_data"
    }
   ],
   "source": [
    "plt.plot(range(10000), carr, lw = 1)\n",
    "plt.semilogy()\n",
    "plt.ylim((1e2, 5e2))\n",
    "plt.title(\"Cost J vs. Iterations (SGD)\")\n",
    "plt.xlabel(\"Number of Iterations\")\n",
    "plt.ylabel(\"Log-Scaled Cost\")"
   ]
  },
  {
   "cell_type": "code",
   "execution_count": 52,
   "id": "3a59d1d2-344d-4ba2-ae64-e68a8281941f",
   "metadata": {},
   "outputs": [],
   "source": [
    "Xtot = data['X']\n",
    "ytot = data['y']\n",
    "Xtest = data['X_test']\n",
    "\n",
    "X, y = prep_data(Xtot, ytot)\n",
    "Xt, yt = prep_data(Xtest, y)"
   ]
  },
  {
   "cell_type": "code",
   "execution_count": 54,
   "id": "019b95bd-faf0-4ebc-b581-335fe13e1d33",
   "metadata": {},
   "outputs": [
    {
     "name": "stderr",
     "output_type": "stream",
     "text": [
      "/Users/shri/opt/miniconda3/envs/astroconda/lib/python3.7/site-packages/ipykernel_launcher.py:26: RuntimeWarning: divide by zero encountered in log\n"
     ]
    }
   ],
   "source": [
    "regp = 0\n",
    "warr, carr = run_mod_gd(regp, n = 10000)"
   ]
  },
  {
   "cell_type": "code",
   "execution_count": 55,
   "id": "fb860166-dda8-44f0-9b4d-2de3b7fc1e02",
   "metadata": {},
   "outputs": [
    {
     "data": {
      "text/plain": [
       "196.6900080342118"
      ]
     },
     "execution_count": 55,
     "metadata": {},
     "output_type": "execute_result"
    }
   ],
   "source": [
    "carr[-1]"
   ]
  },
  {
   "cell_type": "code",
   "execution_count": 56,
   "id": "2659fe3e-7235-459a-b19c-32b56cce63f7",
   "metadata": {},
   "outputs": [
    {
     "data": {
      "text/plain": [
       "0.9951666666666666"
      ]
     },
     "execution_count": 56,
     "metadata": {},
     "output_type": "execute_result"
    }
   ],
   "source": [
    "get_tacc(X, y, warr[-1])"
   ]
  },
  {
   "cell_type": "code",
   "execution_count": 57,
   "id": "5c62c2bc-f8ee-4576-af10-9822fa72374b",
   "metadata": {},
   "outputs": [
    {
     "name": "stdout",
     "output_type": "stream",
     "text": [
      "5971 / 6000\n"
     ]
    }
   ],
   "source": [
    "print(int(get_tacc(X, y, warr[-1]) * len(y)), \"/\" , len(y))"
   ]
  },
  {
   "cell_type": "code",
   "execution_count": 59,
   "id": "7f9298c4-2550-4066-ad55-d1811149c982",
   "metadata": {},
   "outputs": [
    {
     "data": {
      "text/plain": [
       "Text(0, 0.5, 'Log-Scaled Cost')"
      ]
     },
     "execution_count": 59,
     "metadata": {},
     "output_type": "execute_result"
    },
    {
     "data": {
      "image/png": "[encoded data removed]",
      "text/plain": [
       "<Figure size 432x288 with 1 Axes>"
      ]
     },
     "metadata": {
      "needs_background": "light"
     },
     "output_type": "display_data"
    }
   ],
   "source": [
    "plt.scatter(range(10000), carr, s = 0.2)\n",
    "plt.semilogy()\n",
    "plt.title(\"Cost J vs. Iterations (ADASGD)\")\n",
    "plt.xlabel(\"Number of Iterations\")\n",
    "plt.ylabel(\"Log-Scaled Cost\")"
   ]
  },
  {
   "cell_type": "code",
   "execution_count": 60,
   "id": "83235102-4ed7-4858-b45f-aad2064eaefa",
   "metadata": {
    "tags": []
   },
   "outputs": [],
   "source": [
    "pred = predict(Xt, warr[-1])"
   ]
  },
  {
   "cell_type": "code",
   "execution_count": 61,
   "id": "1489b639-d27e-4610-a7c4-84a87e814a87",
   "metadata": {},
   "outputs": [],
   "source": [
    "idx = list(range(1, len(pred) + 1))"
   ]
  },
  {
   "cell_type": "code",
   "execution_count": 62,
   "id": "4f4362d4-db18-4ebd-a444-318899dce59e",
   "metadata": {},
   "outputs": [],
   "source": [
    "pre_csv = np.array(list(zip(idx, pred)), dtype = int)"
   ]
  },
  {
   "cell_type": "code",
   "execution_count": 63,
   "id": "e084971d-68bd-46da-8af9-04739ab6be31",
   "metadata": {},
   "outputs": [],
   "source": [
    "np.savetxt(\"shri_pred_optmodgd.csv\", pre_csv, fmt = '%s', delimiter=',')"
   ]
  },
  {
   "cell_type": "markdown",
   "id": "345cb226-cf10-4938-933b-aee127262ae2",
   "metadata": {},
   "source": [
    "Here, I add the ID,Category manually. This did not perform as well as expected either, unfortunately, performing worse than the earlier method with larger iterations of SGD. My final choice for submission was the optsgd.csv file."
   ]
  },
  {
   "cell_type": "markdown",
   "id": "a21db6ce-740c-4965-ab0b-89d1e8e67bac",
   "metadata": {},
   "source": [
    "**Kaggle Username: Shrihan Agarwal**  \n",
    "**Kaggle Score: 98.792**  \n"
   ]
  },
  {
   "cell_type": "markdown",
   "id": "a7172743-5f00-45cc-9484-89421dbc1d79",
   "metadata": {
    "tags": []
   },
   "source": [
    "## Question 5"
   ]
  },
  {
   "cell_type": "markdown",
   "id": "482618ca-5450-427e-bee8-5a189c63efb0",
   "metadata": {},
   "source": [
    "### Question 5a"
   ]
  },
  {
   "cell_type": "code",
   "execution_count": 36,
   "id": "7d5b0165-26e2-4d8e-940b-10a9aeeda500",
   "metadata": {},
   "outputs": [
    {
     "data": {
      "image/png": "[encoded data removed]",
      "text/plain": [
       "<Figure size 288x288 with 1 Axes>"
      ]
     },
     "metadata": {
      "needs_background": "light"
     },
     "output_type": "display_data"
    }
   ],
   "source": [
    "import matplotlib.pyplot as plt\n",
    "import numpy as np\n",
    "from scipy.stats import multivariate_normal as mnorm\n",
    "plt.rcParams[\"figure.figsize\"] = (4,4)\n",
    "\n",
    "def p_norm(x, y, p):\n",
    "    w = np.array([x, y])\n",
    "    return np.sum((np.abs(w) ** p), axis = 0) ** (1/p)\n",
    "\n",
    "mn = [1, 1]\n",
    "cov = [[1, 0], [0, 2]]\n",
    "\n",
    "x = np.linspace(-5, 5, 1000)\n",
    "y = np.linspace(-5, 5, 1000)\n",
    "X, Y = np.meshgrid(x, y)\n",
    "\n",
    "plt.contourf(X, Y, p_norm(X, Y, 0.5), 8, alpha=.75, cmap=\"viridis\")\n",
    "C = plt.contour(X, Y, p_norm(X, Y, 0.5), 8, colors='k')\n",
    "plt.clabel(C, inline=1, fontsize=10)\n",
    "plt.gca().set_aspect('equal')\n",
    "plt.xlabel(\"x\")\n",
    "plt.ylabel(\"y\")\n",
    "plt.title(\"$l_{0.5}$-Norm\")\n",
    "\n",
    "plt.show()"
   ]
  },
  {
   "cell_type": "markdown",
   "id": "82b4ca3a-a57a-4371-97db-93f751b6fe0d",
   "metadata": {},
   "source": [
    "### Question 5b"
   ]
  },
  {
   "cell_type": "code",
   "execution_count": 37,
   "id": "282985ca-696b-447b-af7b-71220c018678",
   "metadata": {},
   "outputs": [
    {
     "data": {
      "image/png": "[encoded data removed]",
      "text/plain": [
       "<Figure size 288x288 with 1 Axes>"
      ]
     },
     "metadata": {
      "needs_background": "light"
     },
     "output_type": "display_data"
    }
   ],
   "source": [
    "plt.contourf(X, Y, p_norm(X, Y, 1), 8, alpha=.75, cmap=\"viridis\")\n",
    "C = plt.contour(X, Y, p_norm(X, Y, 1), 8, colors='k')\n",
    "plt.clabel(C, inline=1, fontsize=10)\n",
    "plt.gca().set_aspect('equal')\n",
    "plt.xlabel(\"x\")\n",
    "plt.ylabel(\"y\")\n",
    "plt.title(\"$l_1$-Norm\")\n",
    "plt.show()"
   ]
  },
  {
   "cell_type": "markdown",
   "id": "a610bd42-e4fb-485a-81d1-ad09d7333909",
   "metadata": {},
   "source": [
    "### Question 5c"
   ]
  },
  {
   "cell_type": "code",
   "execution_count": 38,
   "id": "a5ed10d5-ee52-4529-8547-cfca7cc6cdce",
   "metadata": {},
   "outputs": [
    {
     "data": {
      "image/png": "[encoded data removed]",
      "text/plain": [
       "<Figure size 288x288 with 1 Axes>"
      ]
     },
     "metadata": {
      "needs_background": "light"
     },
     "output_type": "display_data"
    }
   ],
   "source": [
    "plt.contourf(X, Y, p_norm(X, Y, 2), 8, alpha=.75, cmap=\"viridis\")\n",
    "C = plt.contour(X, Y, p_norm(X, Y, 2), 8, colors='k')\n",
    "plt.clabel(C, inline=1, fontsize=10)\n",
    "plt.gca().set_aspect('equal')\n",
    "plt.xlabel(\"x\")\n",
    "plt.ylabel(\"y\")\n",
    "plt.title(\"$l_2$-Norm\")\n",
    "plt.show()"
   ]
  }
 ],
 "metadata": {
  "kernelspec": {
   "display_name": "Python 3 (ipykernel)",
   "language": "python",
   "name": "python3"
  },
  "language_info": {
   "codemirror_mode": {
    "name": "ipython",
    "version": 3
   },
   "file_extension": ".py",
   "mimetype": "text/x-python",
   "name": "python",
   "nbconvert_exporter": "python",
   "pygments_lexer": "ipython3",
   "version": "3.7.11"
  }
 },
 "nbformat": 4,
 "nbformat_minor": 5
}
