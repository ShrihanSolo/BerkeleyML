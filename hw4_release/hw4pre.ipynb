{
 "cells": [
  {
   "cell_type": "markdown",
   "id": "cf63bab7-847a-4fbb-8c95-c59e2f2de3c1",
   "metadata": {},
   "source": [
    "## Question 2"
   ]
  },
  {
   "cell_type": "code",
   "execution_count": 1,
   "id": "6d1e18ba-c4a5-491e-8048-20343708dcee",
   "metadata": {},
   "outputs": [],
   "source": [
    "import numpy as np\n",
    "from scipy.special import expit\n",
    "x1 = [0.2, 3.1]\n",
    "x2 = [1.0, 3.0]\n",
    "x3 = [-0.2, 1.2]\n",
    "x4 = [1.0, 1.1]\n",
    "y = np.array([1, 1, 0, 0])"
   ]
  },
  {
   "cell_type": "code",
   "execution_count": 2,
   "id": "3ee11c0d-bb29-47d3-9a75-976392467035",
   "metadata": {},
   "outputs": [],
   "source": [
    "x1.append(1.0)\n",
    "x2.append(1.0)\n",
    "x3.append(1.0)\n",
    "x4.append(1.0)"
   ]
  },
  {
   "cell_type": "code",
   "execution_count": 3,
   "id": "f6ade5ac-9f36-458a-b55e-b5ae91dc3767",
   "metadata": {},
   "outputs": [],
   "source": [
    "x1 = np.array(x1)\n",
    "x2 = np.array(x2)\n",
    "x3 = np.array(x3)\n",
    "x4 = np.array(x4)\n",
    "X = np.vstack([x1, x2, x3, x4])"
   ]
  },
  {
   "cell_type": "code",
   "execution_count": 4,
   "id": "9fb55ed6-d149-4496-9e4a-e33db7183beb",
   "metadata": {},
   "outputs": [
    {
     "name": "stdout",
     "output_type": "stream",
     "text": [
      "[0.9478 0.8808 0.8022 0.525 ] [-1.  1.  0.]\n",
      "[0.9474 0.9746 0.0312 0.1044] [ 1.3247  3.0499 -6.8291]\n",
      "[0.9813 0.9904 0.0112 0.037 ] [ 1.366   4.1575 -9.1996]\n"
     ]
    }
   ],
   "source": [
    "def get_s(w):\n",
    "    return expit(np.matmul(X, w))\n",
    "\n",
    "w = np.array([-1.0, 1.0, 0.0])\n",
    "for i in range(3):\n",
    "    s = get_s(w)\n",
    "    omg_diag = s * (1-s)\n",
    "    omega = np.diag(omg_diag)\n",
    "    a = np.matmul(X.T, np.matmul(omega, X))\n",
    "    b = np.matmul(X.T, y - s)\n",
    "    e = np.linalg.solve(a, b)\n",
    "    print(np.round(s, 4), np.round(w, 4))\n",
    "    w = w + e"
   ]
  },
  {
   "cell_type": "code",
   "execution_count": null,
   "id": "1811ac19-c78e-447c-be10-ecb9d847f62f",
   "metadata": {},
   "outputs": [],
   "source": []
  },
  {
   "cell_type": "code",
   "execution_count": null,
   "id": "a7056b38-4c24-4833-b3db-d6c3e5c099d3",
   "metadata": {},
   "outputs": [],
   "source": []
  }
 ],
 "metadata": {
  "kernelspec": {
   "display_name": "Python 3 (ipykernel)",
   "language": "python",
   "name": "python3"
  },
  "language_info": {
   "codemirror_mode": {
    "name": "ipython",
    "version": 3
   },
   "file_extension": ".py",
   "mimetype": "text/x-python",
   "name": "python",
   "nbconvert_exporter": "python",
   "pygments_lexer": "ipython3",
   "version": "3.7.11"
  }
 },
 "nbformat": 4,
 "nbformat_minor": 5
}
