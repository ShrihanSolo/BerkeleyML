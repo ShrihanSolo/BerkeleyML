{
 "cells": [
  {
   "cell_type": "code",
   "execution_count": 1,
   "id": "15beb4b8-0d53-455d-be1c-002923fad762",
   "metadata": {},
   "outputs": [],
   "source": [
    "import numpy as np"
   ]
  },
  {
   "cell_type": "code",
   "execution_count": 7,
   "id": "d0ce6ec0-6386-4100-9296-61fcc90677b3",
   "metadata": {},
   "outputs": [],
   "source": [
    "X = np.random.randint(0, 5, size = (3, 2, 4, 4))"
   ]
  },
  {
   "cell_type": "code",
   "execution_count": 8,
   "id": "0bb41b7d-50bd-4c0b-b11b-631d763abc91",
   "metadata": {},
   "outputs": [
    {
     "data": {
      "text/plain": [
       "array([[[[2, 4, 2, 3],\n",
       "         [3, 3, 1, 0],\n",
       "         [2, 2, 2, 4],\n",
       "         [1, 4, 4, 0]],\n",
       "\n",
       "        [[1, 0, 0, 1],\n",
       "         [3, 4, 2, 2],\n",
       "         [2, 4, 4, 3],\n",
       "         [0, 2, 1, 2]]],\n",
       "\n",
       "\n",
       "       [[[0, 1, 0, 1],\n",
       "         [1, 0, 4, 3],\n",
       "         [2, 0, 4, 3],\n",
       "         [0, 0, 2, 2]],\n",
       "\n",
       "        [[2, 0, 2, 1],\n",
       "         [2, 3, 1, 4],\n",
       "         [4, 0, 4, 2],\n",
       "         [2, 1, 2, 2]]],\n",
       "\n",
       "\n",
       "       [[[1, 2, 3, 2],\n",
       "         [2, 0, 2, 4],\n",
       "         [4, 3, 4, 1],\n",
       "         [1, 3, 3, 3]],\n",
       "\n",
       "        [[1, 1, 4, 0],\n",
       "         [4, 2, 3, 2],\n",
       "         [1, 4, 2, 2],\n",
       "         [0, 0, 2, 2]]]])"
      ]
     },
     "execution_count": 8,
     "metadata": {},
     "output_type": "execute_result"
    }
   ],
   "source": [
    "X"
   ]
  },
  {
   "cell_type": "code",
   "execution_count": 10,
   "id": "080b9fee-1024-4cdd-8783-ecab88dab89b",
   "metadata": {},
   "outputs": [],
   "source": [
    "Xuv = X[:, 1, 0:2, 0:2]"
   ]
  },
  {
   "cell_type": "code",
   "execution_count": 12,
   "id": "8c325b3e-86c9-4ee3-ae26-8c16d77c7a7a",
   "metadata": {},
   "outputs": [
    {
     "data": {
      "text/plain": [
       "array([[[1, 0],\n",
       "        [3, 4]],\n",
       "\n",
       "       [[2, 0],\n",
       "        [2, 3]],\n",
       "\n",
       "       [[1, 1],\n",
       "        [4, 2]]])"
      ]
     },
     "execution_count": 12,
     "metadata": {},
     "output_type": "execute_result"
    }
   ],
   "source": [
    "Xuv"
   ]
  },
  {
   "cell_type": "code",
   "execution_count": 67,
   "id": "a38d33e8-d2a9-4174-8cc4-63a2f0dc7ff2",
   "metadata": {},
   "outputs": [
    {
     "data": {
      "text/plain": [
       "(3, 2, 2)"
      ]
     },
     "execution_count": 67,
     "metadata": {},
     "output_type": "execute_result"
    }
   ],
   "source": [
    "Xuv.shape"
   ]
  },
  {
   "cell_type": "code",
   "execution_count": 57,
   "id": "eb3b8873-51b7-4ad7-94cf-9c353b34f15e",
   "metadata": {},
   "outputs": [],
   "source": [
    "Xuvr = np.reshape(Xuv, (3, -1))"
   ]
  },
  {
   "cell_type": "code",
   "execution_count": 63,
   "id": "999815ac-2cbc-4b9d-9b76-9403abecbdd0",
   "metadata": {},
   "outputs": [
    {
     "data": {
      "text/plain": [
       "array([[1, 0, 3, 4],\n",
       "       [2, 0, 2, 3],\n",
       "       [1, 1, 4, 2]])"
      ]
     },
     "execution_count": 63,
     "metadata": {},
     "output_type": "execute_result"
    }
   ],
   "source": [
    "Xuvr"
   ]
  },
  {
   "cell_type": "code",
   "execution_count": 75,
   "id": "1a628067-95d3-4507-9b6d-e3d2cc22ddaa",
   "metadata": {},
   "outputs": [],
   "source": [
    "a012 = np.array(range(Xuv.shape[0]))"
   ]
  },
  {
   "cell_type": "code",
   "execution_count": 64,
   "id": "8281161f-f78b-4c27-a2ca-ee8ff0751c73",
   "metadata": {},
   "outputs": [],
   "source": [
    "am = Xuvr.argmax(axis = 1)"
   ]
  },
  {
   "cell_type": "code",
   "execution_count": 65,
   "id": "89d3ecff-b891-47df-8da0-0e1158e5b6ea",
   "metadata": {},
   "outputs": [
    {
     "data": {
      "text/plain": [
       "array([3, 3, 2])"
      ]
     },
     "execution_count": 65,
     "metadata": {},
     "output_type": "execute_result"
    }
   ],
   "source": [
    "am"
   ]
  },
  {
   "cell_type": "code",
   "execution_count": 76,
   "id": "44239d73-28ff-4552-9bd0-c9c23c4ea460",
   "metadata": {},
   "outputs": [
    {
     "data": {
      "text/plain": [
       "array([4, 3, 4])"
      ]
     },
     "execution_count": 76,
     "metadata": {},
     "output_type": "execute_result"
    }
   ],
   "source": [
    "Xuvr[a012, am]"
   ]
  },
  {
   "cell_type": "code",
   "execution_count": 68,
   "id": "6e2c422e-c526-44c4-8c92-506f4afb770d",
   "metadata": {},
   "outputs": [],
   "source": [
    "ui = np.unravel_index(am, Xuv[0].shape)"
   ]
  },
  {
   "cell_type": "code",
   "execution_count": 69,
   "id": "c5227c7c-3f14-4ec1-a93b-d79b559bc7eb",
   "metadata": {},
   "outputs": [
    {
     "data": {
      "text/plain": [
       "(array([1, 1, 1]), array([1, 1, 0]))"
      ]
     },
     "execution_count": 69,
     "metadata": {},
     "output_type": "execute_result"
    }
   ],
   "source": [
    "ui"
   ]
  },
  {
   "cell_type": "code",
   "execution_count": 77,
   "id": "01fe2cd2-b095-4295-b6b1-e2f1c6c01330",
   "metadata": {},
   "outputs": [
    {
     "data": {
      "text/plain": [
       "array([4, 3, 4])"
      ]
     },
     "execution_count": 77,
     "metadata": {},
     "output_type": "execute_result"
    }
   ],
   "source": [
    "Xuv[a012, ui[0], ui[1]]"
   ]
  },
  {
   "cell_type": "code",
   "execution_count": 74,
   "id": "d95598e4-1eaf-45b4-9676-977d11b2ff1b",
   "metadata": {},
   "outputs": [
    {
     "data": {
      "text/plain": [
       "array([4, 3, 4])"
      ]
     },
     "execution_count": 74,
     "metadata": {},
     "output_type": "execute_result"
    }
   ],
   "source": [
    "X[a012, 1, ui[0], ui[1]]"
   ]
  },
  {
   "cell_type": "code",
   "execution_count": null,
   "id": "669169fa-df25-4309-8751-f7b6b5cee006",
   "metadata": {},
   "outputs": [],
   "source": []
  },
  {
   "cell_type": "code",
   "execution_count": null,
   "id": "4626ded4-a8d2-4727-9b3f-6454bfa5e310",
   "metadata": {},
   "outputs": [],
   "source": []
  }
 ],
 "metadata": {
  "kernelspec": {
   "display_name": "Python 3 (ipykernel)",
   "language": "python",
   "name": "python3"
  },
  "language_info": {
   "codemirror_mode": {
    "name": "ipython",
    "version": 3
   },
   "file_extension": ".py",
   "mimetype": "text/x-python",
   "name": "python",
   "nbconvert_exporter": "python",
   "pygments_lexer": "ipython3",
   "version": "3.7.11"
  }
 },
 "nbformat": 4,
 "nbformat_minor": 5
}
