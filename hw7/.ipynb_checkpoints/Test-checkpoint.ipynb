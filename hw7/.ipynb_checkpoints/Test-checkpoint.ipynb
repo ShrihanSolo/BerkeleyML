{
 "cells": [
  {
   "cell_type": "code",
   "execution_count": 14,
   "id": "dfc11a24-6be7-4ba6-87e8-412f0d99712c",
   "metadata": {},
   "outputs": [],
   "source": [
    "import importlib\n",
    "import os\n",
    "import scipy.io\n",
    "import numpy as np\n",
    "import scipy.linalg\n",
    "import matplotlib.pyplot as plt"
   ]
  },
  {
   "cell_type": "code",
   "execution_count": 137,
   "id": "11110b87-6e1c-48c6-95c6-ee7a94a23b15",
   "metadata": {},
   "outputs": [],
   "source": [
    "# Load training data from MAT file\n",
    "R = scipy.io.loadmat('movie_data/movie_train.mat')['train']\n",
    "\n",
    "# Load validation data from CSV\n",
    "val_data = np.loadtxt('movie_data/movie_validate.txt', dtype=int, delimiter=',')\n",
    "\n",
    "# Helper method to get training accuracy\n",
    "def get_train_acc(R, user_vecs, movie_vecs):\n",
    "    num_correct, total = 0, 0\n",
    "    for i in range(R.shape[0]):\n",
    "        for j in range(R.shape[1]):\n",
    "            if not np.isnan(R[i, j]):\n",
    "                total += 1\n",
    "                if np.dot(user_vecs[i], movie_vecs[j])*R[i, j] > 0:\n",
    "                    num_correct += 1\n",
    "    return num_correct/total\n",
    "\n",
    "# Helper method to get validation accuracy\n",
    "def get_val_acc(val_data, user_vecs, movie_vecs):\n",
    "    num_correct = 0\n",
    "    for val_pt in val_data:\n",
    "        user_vec = user_vecs[val_pt[0]-1]\n",
    "        movie_vec = movie_vecs[val_pt[1]-1]\n",
    "        est_rating = np.dot(user_vec, movie_vec)\n",
    "        if est_rating*val_pt[2] > 0:\n",
    "            num_correct += 1\n",
    "    return num_correct/val_data.shape[0]\n",
    "\n",
    "# Helper method to get indices of all rated movies for each user,\n",
    "# and indices of all users who have rated that title for each movie\n",
    "def get_rated_idxs(R):\n",
    "    user_rated_idxs, movie_rated_idxs = [], []\n",
    "    for i in range(R.shape[0]):\n",
    "        user_rated_idxs.append(np.argwhere(~np.isnan(R[i, :])).reshape(-1))\n",
    "    for j in range(R.shape[1]):\n",
    "        movie_rated_idxs.append(np.argwhere(~np.isnan(R[:, j])).reshape(-1))\n",
    "    return np.array(user_rated_idxs), np.array(movie_rated_idxs)\n",
    "\n",
    "# Part (c): SVD to learn low-dimensional vector representations\n",
    "def svd_lfm(R):\n",
    "    \n",
    "    r = np.copy(R)\n",
    "    \n",
    "    # Fill in the missing values in R\n",
    "    r[np.isnan(r)] = 0\n",
    "\n",
    "    # Compute the SVD of R\n",
    "    U, s, Vh = scipy.linalg.svd(r, full_matrices = False)\n",
    "    \n",
    "    # Construct user and movie representations\n",
    "    user = U\n",
    "    movie = np.diag(s) @ Vh\n",
    "    \n",
    "    \n",
    "    user_vecs = user\n",
    "    movie_vecs = movie.T\n",
    "    return user_vecs, movie_vecs\n",
    "\n",
    "import time\n",
    "\n",
    "# Part (d): Compute the training MSE loss of a given vectorization\n",
    "def get_train_mse(R, user_vecs, movie_vecs):\n",
    "\n",
    "    # Compute the training MSE loss\n",
    "    mse_loss = 0\n",
    "    count = 0\n",
    "    a = np.where(np.isnan(R))\n",
    "    \n",
    "    for i in a[0]:\n",
    "        for j in a[1]:\n",
    "            dots = user_vecs[i].dot(movie_vecs[j])\n",
    "            mse_loss += (dots - R[i, j]) ** 2\n",
    "            count += 1\n",
    "            \n",
    "    return mse_loss\n"
   ]
  },
  {
   "cell_type": "code",
   "execution_count": 138,
   "id": "725e4243-591f-4ce1-879e-7ca9fc5ad5a6",
   "metadata": {},
   "outputs": [
    {
     "data": {
      "text/plain": [
       "(array([    0,     0,     0, ..., 24982, 24982, 24982]),\n",
       " array([ 0,  1,  2, ..., 97, 98, 99]))"
      ]
     },
     "execution_count": 138,
     "metadata": {},
     "output_type": "execute_result"
    }
   ],
   "source": []
  },
  {
   "cell_type": "code",
   "execution_count": 139,
   "id": "48e3bfd5-f6fa-4460-b80a-93530fd60995",
   "metadata": {},
   "outputs": [
    {
     "data": {
      "text/plain": [
       "array([[  nan,   nan,   nan, ...,   nan,   nan,   nan],\n",
       "       [-0.15,  1.02,   nan, ...,  1.84,   nan,   nan],\n",
       "       [  nan,   nan,   nan, ...,   nan,   nan,   nan],\n",
       "       ...,\n",
       "       [ 3.25, -7.57,   nan, ...,  2.09,   nan,   nan],\n",
       "       [  nan,  5.53,   nan, ...,  7.57,   nan,   nan],\n",
       "       [ 5.97,  0.63,  3.2 , ...,   nan,   nan,   nan]])"
      ]
     },
     "execution_count": 139,
     "metadata": {},
     "output_type": "execute_result"
    }
   ],
   "source": [
    "R"
   ]
  },
  {
   "cell_type": "code",
   "execution_count": 140,
   "id": "dd8117e6-b4b7-4f89-8f47-d1c5fd67729c",
   "metadata": {},
   "outputs": [],
   "source": [
    "a, b = svd_lfm(R)"
   ]
  },
  {
   "cell_type": "code",
   "execution_count": 141,
   "id": "1271edde-1c96-48d7-b634-41ee2a08b95b",
   "metadata": {},
   "outputs": [
    {
     "name": "stdout",
     "output_type": "stream",
     "text": [
      "4.385138988494873\n"
     ]
    },
    {
     "data": {
      "text/plain": [
       "6.537799471719562"
      ]
     },
     "execution_count": 141,
     "metadata": {},
     "output_type": "execute_result"
    }
   ],
   "source": [
    "get_train_mse(np.copy(R), a[:, :5], b[:, :5])"
   ]
  },
  {
   "cell_type": "code",
   "execution_count": 142,
   "id": "4553a0e3-dea7-4aea-9ca0-4bc15a0d8620",
   "metadata": {},
   "outputs": [
    {
     "data": {
      "text/plain": [
       "0.9970166615801742"
      ]
     },
     "execution_count": 142,
     "metadata": {},
     "output_type": "execute_result"
    }
   ],
   "source": [
    "get_train_acc(R, a, b)"
   ]
  },
  {
   "cell_type": "code",
   "execution_count": 133,
   "id": "b0ced90d-6245-4654-b9ab-6cc4321bdd40",
   "metadata": {},
   "outputs": [
    {
     "data": {
      "text/plain": [
       "(24983, 100)"
      ]
     },
     "execution_count": 133,
     "metadata": {},
     "output_type": "execute_result"
    }
   ],
   "source": [
    "a.shape"
   ]
  },
  {
   "cell_type": "code",
   "execution_count": 118,
   "id": "fa2e50e1-1ccf-46b5-b084-67a7daa1c6d4",
   "metadata": {},
   "outputs": [
    {
     "data": {
      "text/plain": [
       "(100, 100)"
      ]
     },
     "execution_count": 118,
     "metadata": {},
     "output_type": "execute_result"
    }
   ],
   "source": [
    "b.shape"
   ]
  },
  {
   "cell_type": "code",
   "execution_count": 119,
   "id": "6c310b86-e2be-4160-ae4e-aa39de4cd388",
   "metadata": {},
   "outputs": [
    {
     "data": {
      "text/plain": [
       "(24983, 100)"
      ]
     },
     "execution_count": 119,
     "metadata": {},
     "output_type": "execute_result"
    }
   ],
   "source": [
    "R.shape"
   ]
  },
  {
   "cell_type": "code",
   "execution_count": 121,
   "id": "2ac40ad2-b828-496a-9de1-dc0610bdb2d3",
   "metadata": {},
   "outputs": [
    {
     "data": {
      "text/plain": [
       "(24983, 5)"
      ]
     },
     "execution_count": 121,
     "metadata": {},
     "output_type": "execute_result"
    }
   ],
   "source": [
    "a[:, :5].shape"
   ]
  },
  {
   "cell_type": "code",
   "execution_count": 123,
   "id": "af095b7a-32bc-4c38-b747-7671f85ebb93",
   "metadata": {},
   "outputs": [
    {
     "data": {
      "text/plain": [
       "(100, 5)"
      ]
     },
     "execution_count": 123,
     "metadata": {},
     "output_type": "execute_result"
    }
   ],
   "source": [
    "b[:,:5].shape"
   ]
  },
  {
   "cell_type": "code",
   "execution_count": null,
   "id": "844d45cc-1e8f-418f-a862-97a01597159a",
   "metadata": {},
   "outputs": [],
   "source": []
  }
 ],
 "metadata": {
  "kernelspec": {
   "display_name": "Python 3 (ipykernel)",
   "language": "python",
   "name": "python3"
  },
  "language_info": {
   "codemirror_mode": {
    "name": "ipython",
    "version": 3
   },
   "file_extension": ".py",
   "mimetype": "text/x-python",
   "name": "python",
   "nbconvert_exporter": "python",
   "pygments_lexer": "ipython3",
   "version": "3.7.11"
  }
 },
 "nbformat": 4,
 "nbformat_minor": 5
}
