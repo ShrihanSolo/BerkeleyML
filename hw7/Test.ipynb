{
 "cells": [
  {
   "cell_type": "code",
   "execution_count": 1,
   "id": "dfc11a24-6be7-4ba6-87e8-412f0d99712c",
   "metadata": {},
   "outputs": [],
   "source": [
    "import importlib\n",
    "import os\n",
    "import scipy.io\n",
    "import numpy as np\n",
    "import scipy.linalg\n",
    "import matplotlib.pyplot as plt"
   ]
  },
  {
   "cell_type": "code",
   "execution_count": 2,
   "id": "11110b87-6e1c-48c6-95c6-ee7a94a23b15",
   "metadata": {},
   "outputs": [],
   "source": [
    "# Load training data from MAT file\n",
    "R = scipy.io.loadmat('movie_data/movie_train.mat')['train']\n",
    "\n",
    "# Load validation data from CSV\n",
    "val_data = np.loadtxt('movie_data/movie_validate.txt', dtype=int, delimiter=',')\n",
    "\n",
    "# Helper method to get training accuracy\n",
    "def get_train_acc(R, user_vecs, movie_vecs):\n",
    "    num_correct, total = 0, 0\n",
    "    for i in range(R.shape[0]):\n",
    "        for j in range(R.shape[1]):\n",
    "            if not np.isnan(R[i, j]):\n",
    "                total += 1\n",
    "                if np.dot(user_vecs[i], movie_vecs[j])*R[i, j] > 0:\n",
    "                    num_correct += 1\n",
    "    return num_correct/total\n",
    "\n",
    "# Helper method to get validation accuracy\n",
    "def get_val_acc(val_data, user_vecs, movie_vecs):\n",
    "    num_correct = 0\n",
    "    for val_pt in val_data:\n",
    "        user_vec = user_vecs[val_pt[0]-1]\n",
    "        movie_vec = movie_vecs[val_pt[1]-1]\n",
    "        est_rating = np.dot(user_vec, movie_vec)\n",
    "        if est_rating*val_pt[2] > 0:\n",
    "            num_correct += 1\n",
    "    return num_correct/val_data.shape[0]\n",
    "\n",
    "# Helper method to get indices of all rated movies for each user,\n",
    "# and indices of all users who have rated that title for each movie\n",
    "def get_rated_idxs(R):\n",
    "    user_rated_idxs, movie_rated_idxs = [], []\n",
    "    for i in range(R.shape[0]):\n",
    "        user_rated_idxs.append(np.argwhere(~np.isnan(R[i, :])).reshape(-1))\n",
    "    for j in range(R.shape[1]):\n",
    "        movie_rated_idxs.append(np.argwhere(~np.isnan(R[:, j])).reshape(-1))\n",
    "    return np.array(user_rated_idxs), np.array(movie_rated_idxs)\n",
    "\n",
    "# Part (c): SVD to learn low-dimensional vector representations\n",
    "def svd_lfm(R):\n",
    "    \n",
    "    r = np.copy(R)\n",
    "    \n",
    "    # Fill in the missing values in R\n",
    "    r[np.isnan(r)] = 0\n",
    "\n",
    "    # Compute the SVD of R\n",
    "    U, s, Vh = scipy.linalg.svd(r, full_matrices = False)\n",
    "    \n",
    "    # Construct user and movie representations\n",
    "    user = U\n",
    "    movie = np.diag(s) @ Vh\n",
    "    \n",
    "    user_vecs = user\n",
    "    movie_vecs = movie.T\n",
    "    return user_vecs, movie_vecs\n",
    "\n",
    "def get_train_mse_old(R, user_vecs, movie_vecs):\n",
    "\n",
    "    # Compute the training MSE loss\n",
    "    mse_loss = 0\n",
    "    count = 0\n",
    "    for i in range(user_vecs.shape[0]):\n",
    "        for j in range(movie_vecs.shape[0]):\n",
    "            if not np.isnan(R[i, j]):\n",
    "                dots = user_vecs[i].dot(movie_vecs[j])\n",
    "                mse_loss += (dots - R[i, j]) ** 2\n",
    "                count += 1\n",
    "    return mse_loss / count\n",
    "\n",
    "\n",
    "# Part (d): Compute the training MSE loss of a given vectorization\n",
    "def get_train_mse(R, user_vecs, movie_vecs):\n",
    "    \n",
    "    UDVT = user_vecs @ movie_vecs.T\n",
    "    \n",
    "    r = np.copy(R)\n",
    "    k = np.isnan(r)\n",
    "    r[k] = 0\n",
    "    UDVT[k] = 0\n",
    "    print(np.sum(~k))\n",
    "    mse_loss = np.linalg.norm(r - UDVT) ** 2 / np.sum(~k)\n",
    "    \n",
    "    return mse_loss \n"
   ]
  },
  {
   "cell_type": "code",
   "execution_count": 4,
   "id": "725e4243-591f-4ce1-879e-7ca9fc5ad5a6",
   "metadata": {},
   "outputs": [
    {
     "name": "stderr",
     "output_type": "stream",
     "text": [
      "/Users/shri/opt/miniconda3/envs/astroconda/lib/python3.7/site-packages/ipykernel_launcher.py:37: VisibleDeprecationWarning: Creating an ndarray from ragged nested sequences (which is a list-or-tuple of lists-or-tuples-or ndarrays with different lengths or shapes) is deprecated. If you meant to do this, you must specify 'dtype=object' when creating the ndarray.\n"
     ]
    }
   ],
   "source": [
    "user_rated_idxs, movie_rated_idxs = get_rated_idxs(np.copy(R))"
   ]
  },
  {
   "cell_type": "code",
   "execution_count": 5,
   "id": "269c4d56-724c-4cf2-81b6-15ae296401a6",
   "metadata": {},
   "outputs": [],
   "source": [
    "a = user_rated_idxs"
   ]
  },
  {
   "cell_type": "code",
   "execution_count": 9,
   "id": "4e371c4d-b1e5-4136-b165-c091e065e295",
   "metadata": {},
   "outputs": [],
   "source": [
    "b = movie_rated_idxs"
   ]
  },
  {
   "cell_type": "code",
   "execution_count": 12,
   "id": "bef28fc3-ff5a-4a90-aab1-9e1407192b29",
   "metadata": {},
   "outputs": [
    {
     "data": {
      "text/plain": [
       "array([    1,     5,     8, ..., 24977, 24980, 24982])"
      ]
     },
     "execution_count": 12,
     "metadata": {},
     "output_type": "execute_result"
    }
   ],
   "source": [
    "b[0]"
   ]
  },
  {
   "cell_type": "code",
   "execution_count": 13,
   "id": "d2e90ead-e8f4-4f0f-826b-f18f125e0825",
   "metadata": {},
   "outputs": [
    {
     "data": {
      "text/plain": [
       "array([ 5,  6, 10, 12, 13, 14, 15, 17, 20, 26, 31, 33, 34, 37, 38, 39, 41,\n",
       "       44, 45, 47, 52, 53, 54, 64, 65, 68, 69, 85])"
      ]
     },
     "execution_count": 13,
     "metadata": {},
     "output_type": "execute_result"
    }
   ],
   "source": [
    "a[0]"
   ]
  },
  {
   "cell_type": "code",
   "execution_count": null,
   "id": "f040217c-ae0c-4e37-b0d1-32fb7d28aefb",
   "metadata": {},
   "outputs": [],
   "source": []
  },
  {
   "cell_type": "code",
   "execution_count": 265,
   "id": "48e3bfd5-f6fa-4460-b80a-93530fd60995",
   "metadata": {},
   "outputs": [
    {
     "data": {
      "text/plain": [
       "(24983, 100)"
      ]
     },
     "execution_count": 265,
     "metadata": {},
     "output_type": "execute_result"
    }
   ],
   "source": [
    "R.shape"
   ]
  },
  {
   "cell_type": "code",
   "execution_count": 260,
   "id": "42f31579-2f09-4c8b-9f2d-9754de18d51b",
   "metadata": {},
   "outputs": [],
   "source": [
    "k = np.isnan(R)"
   ]
  },
  {
   "cell_type": "code",
   "execution_count": 261,
   "id": "9776bdde-6e8d-4263-804e-15c911fbd917",
   "metadata": {},
   "outputs": [
    {
     "data": {
      "text/plain": [
       "1593944"
      ]
     },
     "execution_count": 261,
     "metadata": {},
     "output_type": "execute_result"
    }
   ],
   "source": [
    "np.sum(k)"
   ]
  },
  {
   "cell_type": "code",
   "execution_count": 3,
   "id": "dd8117e6-b4b7-4f89-8f47-d1c5fd67729c",
   "metadata": {},
   "outputs": [],
   "source": [
    "a, b = svd_lfm(R)"
   ]
  },
  {
   "cell_type": "code",
   "execution_count": 23,
   "id": "2f56220c-905a-4eac-9735-9b6a88790eaf",
   "metadata": {},
   "outputs": [
    {
     "data": {
      "text/plain": [
       "array([[ 1.00000000e+00, -7.34275921e-17, -6.12845278e-17,\n",
       "         1.78025997e-16,  1.03900449e-16],\n",
       "       [-7.34275921e-17,  1.00000000e+00,  7.25737829e-18,\n",
       "         2.66713734e-17, -1.57100895e-16],\n",
       "       [-6.12845278e-17,  7.25737829e-18,  1.00000000e+00,\n",
       "        -2.78992324e-16, -9.35259899e-17],\n",
       "       [ 1.78025997e-16,  2.66713734e-17, -2.78992324e-16,\n",
       "         1.00000000e+00, -1.62223750e-17],\n",
       "       [ 1.03900449e-16, -1.57100895e-16, -9.35259899e-17,\n",
       "        -1.62223750e-17,  1.00000000e+00]])"
      ]
     },
     "execution_count": 23,
     "metadata": {},
     "output_type": "execute_result"
    }
   ],
   "source": [
    "a[:, :5].T @ a[:, :5]"
   ]
  },
  {
   "cell_type": "code",
   "execution_count": 263,
   "id": "1271edde-1c96-48d7-b634-41ee2a08b95b",
   "metadata": {},
   "outputs": [
    {
     "name": "stdout",
     "output_type": "stream",
     "text": [
      "904356\n"
     ]
    },
    {
     "data": {
      "text/plain": [
       "18.06079068441721"
      ]
     },
     "execution_count": 263,
     "metadata": {},
     "output_type": "execute_result"
    }
   ],
   "source": [
    "get_train_mse(np.copy(R), a[:, :5], b[:, :5])"
   ]
  },
  {
   "cell_type": "code",
   "execution_count": 264,
   "id": "39ef5a7c-9b44-4661-bea2-23bab83762ed",
   "metadata": {},
   "outputs": [
    {
     "data": {
      "text/plain": [
       "18.060790684417398"
      ]
     },
     "execution_count": 264,
     "metadata": {},
     "output_type": "execute_result"
    }
   ],
   "source": [
    "get_train_mse_old(np.copy(R), a[:, :5], b[:, :5])"
   ]
  },
  {
   "cell_type": "code",
   "execution_count": 248,
   "id": "4553a0e3-dea7-4aea-9ca0-4bc15a0d8620",
   "metadata": {},
   "outputs": [
    {
     "data": {
      "text/plain": [
       "0.9970166615801742"
      ]
     },
     "execution_count": 248,
     "metadata": {},
     "output_type": "execute_result"
    }
   ],
   "source": [
    "get_train_acc(R, a, b)"
   ]
  },
  {
   "cell_type": "code",
   "execution_count": 133,
   "id": "b0ced90d-6245-4654-b9ab-6cc4321bdd40",
   "metadata": {},
   "outputs": [
    {
     "data": {
      "text/plain": [
       "(24983, 100)"
      ]
     },
     "execution_count": 133,
     "metadata": {},
     "output_type": "execute_result"
    }
   ],
   "source": [
    "a.shape"
   ]
  },
  {
   "cell_type": "code",
   "execution_count": 118,
   "id": "fa2e50e1-1ccf-46b5-b084-67a7daa1c6d4",
   "metadata": {},
   "outputs": [
    {
     "data": {
      "text/plain": [
       "(100, 100)"
      ]
     },
     "execution_count": 118,
     "metadata": {},
     "output_type": "execute_result"
    }
   ],
   "source": [
    "b.shape"
   ]
  },
  {
   "cell_type": "code",
   "execution_count": 119,
   "id": "6c310b86-e2be-4160-ae4e-aa39de4cd388",
   "metadata": {},
   "outputs": [
    {
     "data": {
      "text/plain": [
       "(24983, 100)"
      ]
     },
     "execution_count": 119,
     "metadata": {},
     "output_type": "execute_result"
    }
   ],
   "source": [
    "R.shape"
   ]
  },
  {
   "cell_type": "code",
   "execution_count": 121,
   "id": "2ac40ad2-b828-496a-9de1-dc0610bdb2d3",
   "metadata": {},
   "outputs": [
    {
     "data": {
      "text/plain": [
       "(24983, 5)"
      ]
     },
     "execution_count": 121,
     "metadata": {},
     "output_type": "execute_result"
    }
   ],
   "source": [
    "a[:, :5].shape"
   ]
  },
  {
   "cell_type": "code",
   "execution_count": 123,
   "id": "af095b7a-32bc-4c38-b747-7671f85ebb93",
   "metadata": {},
   "outputs": [
    {
     "data": {
      "text/plain": [
       "(100, 5)"
      ]
     },
     "execution_count": 123,
     "metadata": {},
     "output_type": "execute_result"
    }
   ],
   "source": [
    "b[:,:5].shape"
   ]
  },
  {
   "cell_type": "code",
   "execution_count": null,
   "id": "844d45cc-1e8f-418f-a862-97a01597159a",
   "metadata": {},
   "outputs": [],
   "source": []
  },
  {
   "cell_type": "code",
   "execution_count": 5,
   "id": "996211a0-31fa-41c7-8717-bceff531097c",
   "metadata": {},
   "outputs": [
    {
     "data": {
      "text/plain": [
       "(100, 100)"
      ]
     },
     "execution_count": 5,
     "metadata": {},
     "output_type": "execute_result"
    }
   ],
   "source": [
    "np.outer(a[0], a[0]).shape"
   ]
  },
  {
   "cell_type": "code",
   "execution_count": null,
   "id": "65d53a4f-e657-4e8e-b365-4b6dac9cb7c5",
   "metadata": {},
   "outputs": [],
   "source": []
  }
 ],
 "metadata": {
  "kernelspec": {
   "display_name": "Python 3 (ipykernel)",
   "language": "python",
   "name": "python3"
  },
  "language_info": {
   "codemirror_mode": {
    "name": "ipython",
    "version": 3
   },
   "file_extension": ".py",
   "mimetype": "text/x-python",
   "name": "python",
   "nbconvert_exporter": "python",
   "pygments_lexer": "ipython3",
   "version": "3.7.11"
  }
 },
 "nbformat": 4,
 "nbformat_minor": 5
}
