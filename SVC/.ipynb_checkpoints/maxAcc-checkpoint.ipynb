{
 "cells": [
  {
   "cell_type": "code",
   "execution_count": 1,
   "id": "85dd24b8-7308-4a8f-9115-f4a2df2b3c1a",
   "metadata": {},
   "outputs": [],
   "source": [
    "import numpy as np\n",
    "import matplotlib.pyplot as plt\n",
    "from sklearn import svm\n",
    "from sklearn.metrics import accuracy_score\n",
    "from scipy import io"
   ]
  },
  {
   "cell_type": "code",
   "execution_count": 2,
   "id": "6c383ad9-66ae-4f8e-8ad0-7cc2ee65b637",
   "metadata": {},
   "outputs": [],
   "source": [
    "def split_data(train, labels, num_valid):\n",
    "    num_data = train.shape[0]\n",
    "    assert num_valid <= len(train)\n",
    "    assert num_data == labels.shape[0]\n",
    "    idx = np.arange(num_data)\n",
    "    np.random.shuffle(idx)\n",
    "    train_shf = train[idx]\n",
    "    lbl_shf = labels[idx]\n",
    "    valid_dat = train_shf[:num_valid]\n",
    "    valid_lbl = lbl_shf[:num_valid]\n",
    "    train_dat = train_shf[num_valid:]\n",
    "    train_lbl = lbl_shf[num_valid:]\n",
    "    return train_dat, train_lbl, valid_dat, valid_lbl"
   ]
  },
  {
   "cell_type": "code",
   "execution_count": 3,
   "id": "2120cc88-d2e3-4dc6-b50a-c626861cae89",
   "metadata": {},
   "outputs": [],
   "source": [
    "def load_and_save(filename, num = None, percent = None):\n",
    "    dataset = io.loadmat(filename)\n",
    "    if percent:\n",
    "        num = int(dataset[\"training_labels\"].shape[0] * percent)\n",
    "    t_dat, t_lbl, v_dat, v_lbl = split_data(dataset[\"training_data\"], \n",
    "                                            dataset[\"training_labels\"],\n",
    "                                            num)\n",
    "    dataset[\"training_data\"] = t_dat\n",
    "    dataset[\"training_labels\"] = t_lbl\n",
    "    dataset[\"valid_data\"] = v_dat\n",
    "    dataset[\"valid_labels\"] = v_lbl\n",
    "    \n",
    "    io.savemat(\"prep_\" + filename, dataset)\n",
    "    "
   ]
  },
  {
   "cell_type": "code",
   "execution_count": 4,
   "id": "fd8e13ed-b31c-4669-8e7d-fd67d62e8558",
   "metadata": {},
   "outputs": [],
   "source": [
    "load_and_save(\"mnist_kdata.mat\", num = 10000)"
   ]
  },
  {
   "cell_type": "code",
   "execution_count": 4,
   "id": "7d74f1c8-b6a7-44df-b695-40b887120ee9",
   "metadata": {},
   "outputs": [],
   "source": [
    "def perform_training_mnist(data, num):\n",
    "    td = data[\"training_data\"][:num] / 255\n",
    "    tl = np.ravel(data[\"training_labels\"])[:num]\n",
    "    vd = data[\"valid_data\"][:num] / 255\n",
    "    vl = np.ravel(data[\"valid_labels\"])[:num]\n",
    "    alg = svm.LinearSVC(max_iter = 5000)\n",
    "    alg.fit(td, tl)\n",
    "    vp = alg.predict(vd)\n",
    "    tp = alg.predict(td)\n",
    "    vacc = accuracy_score(vl, vp)\n",
    "    tacc = accuracy_score(tl, tp)\n",
    "    return num, vacc, tacc"
   ]
  },
  {
   "cell_type": "code",
   "execution_count": 34,
   "id": "6bb54b7b-9484-47ff-9161-8a5776fdc9bb",
   "metadata": {},
   "outputs": [],
   "source": [
    "from sklearn.preprocessing import StandardScaler\n",
    "\n",
    "def perform_training_mnist_2(data, num, C_val):\n",
    "    \n",
    "    td = data[\"training_data\"][:num]\n",
    "    tl = np.ravel(data[\"training_labels\"])[:num]\n",
    "    vd = data[\"valid_data\"][:num]\n",
    "    vl = np.ravel(data[\"valid_labels\"])[:num]\n",
    "    \n",
    "    scaler = StandardScaler()\n",
    "    scaler.fit_transform(td)\n",
    "    scaler.transform(vd)\n",
    "    \n",
    "    alg = svm.SVC(max_iter = 5000, kernel = 'rbf', degree = 1, C = 1e5)\n",
    "    alg.fit(td, tl)\n",
    "    vp = alg.predict(vd)\n",
    "    tp = alg.predict(td)\n",
    "    vacc = accuracy_score(vl, vp)\n",
    "    tacc = accuracy_score(tl, tp)\n",
    "    return vacc\n",
    "\n",
    "\n",
    "def perform_training_mnist_3(data):\n",
    "    \n",
    "    td = data[\"training_data\"]\n",
    "    tl = np.ravel(data[\"training_labels\"])\n",
    "    vd = data[\"valid_data\"]\n",
    "    vl = np.ravel(data[\"valid_labels\"])\n",
    "    \n",
    "    scaler = StandardScaler()\n",
    "    scaler.fit_transform(td)\n",
    "    scaler.transform(vd)\n",
    "    \n",
    "    alg = svm.SVC(max_iter = 5000, kernel = 'rbf', degree = 1, C = 1e5)\n",
    "    alg.fit(td, tl)\n",
    "    vp = alg.predict(vd)\n",
    "    tp = alg.predict(td)\n",
    "    vacc = accuracy_score(vl, vp)\n",
    "    tacc = accuracy_score(tl, tp)\n",
    "    return vacc\n",
    "\n",
    "def perform_training_mnist_final(data):\n",
    "    \n",
    "    td = data[\"training_data\"]\n",
    "    tl = np.ravel(data[\"training_labels\"])\n",
    "    vd = data[\"test_data\"]\n",
    "    \n",
    "    scaler = StandardScaler()\n",
    "    scaler.fit_transform(td)\n",
    "    scaler.transform(vd)\n",
    "    \n",
    "    alg = svm.SVC(max_iter = 5000, kernel = 'rbf', degree = 1, C = 1e5)\n",
    "    alg.fit(td, tl)\n",
    "    vp = alg.predict(vd)\n",
    "    return alg, vp"
   ]
  },
  {
   "cell_type": "code",
   "execution_count": 35,
   "id": "90881ac3-1b1e-43d6-bc62-60b6167adf5e",
   "metadata": {},
   "outputs": [],
   "source": [
    "#data = io.loadmat(\"prep_mnist_kdata.mat\")"
   ]
  },
  {
   "cell_type": "code",
   "execution_count": 36,
   "id": "44ddb235-ebc0-4c4e-84b1-0d9d97206245",
   "metadata": {},
   "outputs": [],
   "source": [
    "#C_vals = np.logspace(-5, 5, 10)\n",
    "#C_vals = np.linspace(2, 2.3, 30)\n",
    "#tot_acc = np.array([perform_training_mnist_2(data, 1000, i) for i in C_vals])"
   ]
  },
  {
   "cell_type": "code",
   "execution_count": 37,
   "id": "0a83d37e-ddbf-4950-b619-7b737c9eaa75",
   "metadata": {},
   "outputs": [],
   "source": [
    "# 2D optimization of polynomial degree and C (training was tried with kernel = 'poly')\n",
    "# deg = np.linspace(1, 10, 10)\n",
    "# tot_acc = np.array([[perform_training_mnist_2(data, 10000, i, j) for i in C_vals] for j in deg])"
   ]
  },
  {
   "cell_type": "code",
   "execution_count": 38,
   "id": "385c8b89-e532-479c-ab40-2a58ad67bdfe",
   "metadata": {},
   "outputs": [],
   "source": [
    "# vd = data[\"valid_data\"]"
   ]
  },
  {
   "cell_type": "code",
   "execution_count": 147,
   "id": "a1419708-5492-4a00-bf1f-88f109811518",
   "metadata": {},
   "outputs": [
    {
     "data": {
      "text/plain": [
       "Text(0, 0.5, 'Accuracy')"
      ]
     },
     "execution_count": 147,
     "metadata": {},
     "output_type": "execute_result"
    },
    {
     "data": {
      "image/png": "[encoded data removed]",
      "text/plain": [
       "<Figure size 432x288 with 1 Axes>"
      ]
     },
     "metadata": {
      "needs_background": "light"
     },
     "output_type": "display_data"
    }
   ],
   "source": [
    "#plt.plot(C_vals, tot_acc.T[2] - 0.86, label = \"Training\")\n",
    "plt.plot(C_vals, tot_acc.T, label = \"Validation\")\n",
    "plt.title(\"MNIST Accuracy vs. Value of Degree\")\n",
    "plt.legend()\n",
    "plt.semilogx()\n",
    "plt.xlabel(\"C\")\n",
    "plt.ylabel(\"Accuracy\")"
   ]
  },
  {
   "cell_type": "code",
   "execution_count": 39,
   "id": "03f3a72a-237a-4a3c-a8ee-b9352cb508fc",
   "metadata": {},
   "outputs": [],
   "source": [
    "data = io.loadmat(\"mnist_kdata.mat\")"
   ]
  },
  {
   "cell_type": "code",
   "execution_count": 40,
   "id": "2fd9f2e2-d5ad-4141-a6e9-9b41ffa2b4a1",
   "metadata": {},
   "outputs": [
    {
     "name": "stderr",
     "output_type": "stream",
     "text": [
      "/Users/shri/opt/miniconda3/envs/astroconda/lib/python3.7/site-packages/sklearn/svm/_base.py:249: ConvergenceWarning: Solver terminated early (max_iter=5000).  Consider pre-processing your data with StandardScaler or MinMaxScaler.\n",
      "  % self.max_iter, ConvergenceWarning)\n"
     ]
    }
   ],
   "source": [
    "alg, vp = perform_training_mnist_final(data)"
   ]
  },
  {
   "cell_type": "code",
   "execution_count": 55,
   "id": "d4872db4-7efb-40af-a72c-c01b40dfa25f",
   "metadata": {},
   "outputs": [],
   "source": [
    "idx = list(range(1, len(vp) + 1))"
   ]
  },
  {
   "cell_type": "code",
   "execution_count": 57,
   "id": "c0308e34-e173-40dc-8b32-7fea14f50c4b",
   "metadata": {},
   "outputs": [],
   "source": [
    "pre_csv = np.array(list(zip(idx, vp)), dtype = int)"
   ]
  },
  {
   "cell_type": "code",
   "execution_count": 60,
   "id": "56f8e2b7-6874-43df-8fb2-9995f3087986",
   "metadata": {},
   "outputs": [],
   "source": [
    "np.savetxt(\"shri_pred.csv\", pre_csv, fmt = '%s', delimiter=',')"
   ]
  },
  {
   "cell_type": "code",
   "execution_count": 4,
   "id": "1b51c11c-f830-43c9-b0a1-c1653d7a1079",
   "metadata": {},
   "outputs": [],
   "source": [
    "from collections import defaultdict\n",
    "import glob\n",
    "import re\n",
    "import scipy.io\n",
    "import numpy as np\n",
    "spam_filenames = glob.glob('data/spam/' + '*.txt')\n",
    "ham_filenames = glob.glob('data/ham/' + '*.txt')"
   ]
  },
  {
   "cell_type": "code",
   "execution_count": 5,
   "id": "cc7c55d3-8d59-4fb7-815b-8bb271263dc4",
   "metadata": {},
   "outputs": [],
   "source": [
    "email_list = []\n",
    "for filename in spam_filenames:\n",
    "    with open(filename, 'r', encoding='utf-8', errors='ignore') as f:\n",
    "            try:\n",
    "                text = f.read() # Read in text from file\n",
    "            except Exception as e:\n",
    "                # skip files we have trouble reading.\n",
    "                continue\n",
    "            text = text.replace('\\r\\n', ' ') # Remove newline character\n",
    "            \n",
    "            # Create a feature vector\n",
    "            email_list.append(text)"
   ]
  },
  {
   "cell_type": "code",
   "execution_count": 14,
   "id": "fc4b27ac-2c9e-4a1f-a98c-fb18d7a9b0fc",
   "metadata": {},
   "outputs": [],
   "source": [
    "from sklearn.feature_extraction.text import TfidfVectorizer\n",
    "\n",
    "vectorizer = TfidfVectorizer(max_features = 100)\n",
    "X = vectorizer.fit_transform(email_list)\n",
    "a = vectorizer.get_feature_names_out()"
   ]
  },
  {
   "cell_type": "code",
   "execution_count": 12,
   "id": "fa65f63c-f5da-4015-b6b0-8462b91b9793",
   "metadata": {},
   "outputs": [],
   "source": [
    "email_list_ham = []\n",
    "for filename in ham_filenames:\n",
    "    with open(filename, 'r', encoding='utf-8', errors='ignore') as f:\n",
    "            try:\n",
    "                text = f.read() # Read in text from file\n",
    "            except Exception as e:\n",
    "                # skip files we have trouble reading.\n",
    "                continue\n",
    "            text = text.replace('\\r\\n', ' ') # Remove newline character\n",
    "            \n",
    "            # Create a feature vector\n",
    "            email_list_ham.append(text)"
   ]
  },
  {
   "cell_type": "code",
   "execution_count": 15,
   "id": "2fd09d69-3e5d-4667-b9e5-be7632ca9ac4",
   "metadata": {},
   "outputs": [],
   "source": [
    "vectorizer = TfidfVectorizer(max_features = 100)\n",
    "X = vectorizer.fit_transform(email_list_ham)\n",
    "b = vectorizer.get_feature_names_out()"
   ]
  },
  {
   "cell_type": "code",
   "execution_count": 16,
   "id": "9a3c2703-5b36-4a29-8856-ec26d81f29fd",
   "metadata": {},
   "outputs": [],
   "source": [
    "c = np.concatenate([a, b])"
   ]
  },
  {
   "cell_type": "code",
   "execution_count": 19,
   "id": "617ad303-83d6-4991-b23a-824a529375c9",
   "metadata": {},
   "outputs": [],
   "source": [
    "final_feature_list = set(c)"
   ]
  },
  {
   "cell_type": "code",
   "execution_count": 20,
   "id": "495c53f6-e273-4e21-823e-72b0719034f2",
   "metadata": {},
   "outputs": [
    {
     "data": {
      "text/plain": [
       "{'00',\n",
       " '000',\n",
       " '01',\n",
       " '02',\n",
       " '03',\n",
       " '04',\n",
       " '05',\n",
       " '08',\n",
       " '09',\n",
       " '10',\n",
       " '11',\n",
       " '12',\n",
       " '2000',\n",
       " '2001',\n",
       " '30',\n",
       " '99',\n",
       " 'all',\n",
       " 'am',\n",
       " 'an',\n",
       " 'and',\n",
       " 'any',\n",
       " 'are',\n",
       " 'as',\n",
       " 'at',\n",
       " 'attached',\n",
       " 'be',\n",
       " 'been',\n",
       " 'but',\n",
       " 'by',\n",
       " 'can',\n",
       " 'cc',\n",
       " 'com',\n",
       " 'company',\n",
       " 'contract',\n",
       " 'corp',\n",
       " 'daren',\n",
       " 'day',\n",
       " 'deal',\n",
       " 'do',\n",
       " 'ect',\n",
       " 'enron',\n",
       " 'farmer',\n",
       " 'for',\n",
       " 'forwarded',\n",
       " 'from',\n",
       " 'gas',\n",
       " 'get',\n",
       " 'has',\n",
       " 'have',\n",
       " 'here',\n",
       " 'hou',\n",
       " 'hpl',\n",
       " 'http',\n",
       " 'if',\n",
       " 'in',\n",
       " 'information',\n",
       " 'into',\n",
       " 'is',\n",
       " 'it',\n",
       " 'know',\n",
       " 'let',\n",
       " 'may',\n",
       " 'me',\n",
       " 'message',\n",
       " 'meter',\n",
       " 'mmbtu',\n",
       " 'month',\n",
       " 'more',\n",
       " 'my',\n",
       " 'need',\n",
       " 'new',\n",
       " 'no',\n",
       " 'nom',\n",
       " 'not',\n",
       " 'of',\n",
       " 'on',\n",
       " 'only',\n",
       " 'or',\n",
       " 'our',\n",
       " 'out',\n",
       " 'please',\n",
       " 'pm',\n",
       " 'price',\n",
       " 'questions',\n",
       " 're',\n",
       " 'robert',\n",
       " 'see',\n",
       " 'should',\n",
       " 'sitara',\n",
       " 'so',\n",
       " 'subject',\n",
       " 'texas',\n",
       " 'thanks',\n",
       " 'that',\n",
       " 'the',\n",
       " 'there',\n",
       " 'these',\n",
       " 'they',\n",
       " 'this',\n",
       " 'time',\n",
       " 'to',\n",
       " 'up',\n",
       " 'us',\n",
       " 'volume',\n",
       " 'volumes',\n",
       " 'was',\n",
       " 'we',\n",
       " 'what',\n",
       " 'will',\n",
       " 'with',\n",
       " 'would',\n",
       " 'xls',\n",
       " 'you',\n",
       " 'your'}"
      ]
     },
     "execution_count": 20,
     "metadata": {},
     "output_type": "execute_result"
    }
   ],
   "source": [
    "final_feature_list"
   ]
  },
  {
   "cell_type": "code",
   "execution_count": null,
   "id": "3f45170a-9b2e-43f6-8d89-c263c3180bf7",
   "metadata": {},
   "outputs": [],
   "source": [
    "# Feature set was modified as follows\n",
    "for i in feature_set:\n",
    "        a = lambda text, freq: float(freq[i])\n",
    "        feature.append(a)"
   ]
  },
  {
   "cell_type": "code",
   "execution_count": 28,
   "id": "66bc0dd1-13ef-4cf9-98e0-706742309297",
   "metadata": {},
   "outputs": [],
   "source": [
    "sata = io.loadmat('data/spam_data.mat')"
   ]
  },
  {
   "cell_type": "code",
   "execution_count": 30,
   "id": "f3e6cbf9-b538-47e8-9b51-29392a532f32",
   "metadata": {},
   "outputs": [
    {
     "data": {
      "text/plain": [
       "(5172, 156)"
      ]
     },
     "execution_count": 30,
     "metadata": {},
     "output_type": "execute_result"
    }
   ],
   "source": [
    "sata['training_data'].shape"
   ]
  },
  {
   "cell_type": "code",
   "execution_count": 102,
   "id": "0666f81c-a691-444b-8575-745cba6228c6",
   "metadata": {},
   "outputs": [],
   "source": [
    "def split_data(train, labels, num_valid):\n",
    "    num_data = train.shape[0]\n",
    "    assert num_valid <= len(train)\n",
    "    assert num_data == labels.shape[0]\n",
    "    idx = np.arange(num_data)\n",
    "    np.random.shuffle(idx)\n",
    "    train_shf = train[idx]\n",
    "    lbl_shf = labels[idx]\n",
    "    valid_dat = train_shf[:num_valid]\n",
    "    valid_lbl = lbl_shf[:num_valid]\n",
    "    train_dat = train_shf[num_valid:]\n",
    "    train_lbl = lbl_shf[num_valid:]\n",
    "    return train_dat, train_lbl, valid_dat, valid_lbl\n",
    "\n",
    "def load_and_save(filename, num = None, percent = None):\n",
    "    dataset = io.loadmat(filename)\n",
    "    if percent:\n",
    "        num = int(dataset[\"training_labels\"].shape[0] * percent)\n",
    "    t_dat, t_lbl, v_dat, v_lbl = split_data(dataset[\"training_data\"], \n",
    "                                            dataset[\"training_labels\"],\n",
    "                                            num)\n",
    "    dataset[\"training_data\"] = t_dat\n",
    "    dataset[\"training_labels\"] = t_lbl\n",
    "    dataset[\"valid_data\"] = v_dat\n",
    "    dataset[\"valid_labels\"] = v_lbl\n",
    "    \n",
    "    io.savemat(\"prep_\"+filename, dataset)\n",
    "\n",
    "def perform_training_spam(data, num, C_val):\n",
    "    \n",
    "    td = data[\"training_data\"][:num]\n",
    "    tl = np.ravel(data[\"training_labels\"])[:num]\n",
    "    vd = data[\"valid_data\"][:num]\n",
    "    vl = np.ravel(data[\"valid_labels\"])[:num]\n",
    "    \n",
    "    scaler = StandardScaler()\n",
    "    scaler.fit_transform(td)\n",
    "    scaler.transform(vd)\n",
    "    \n",
    "    alg = svm.SVC(max_iter = 10000, kernel = 'rbf', C = C_val)\n",
    "    alg.fit(td, tl)\n",
    "    vp = alg.predict(vd)\n",
    "    tp = alg.predict(td)\n",
    "    vacc = accuracy_score(vl, vp)\n",
    "    tacc = accuracy_score(tl, tp)\n",
    "    return vacc\n",
    "\n",
    "def perform_training_spam_final(data):\n",
    "    \n",
    "    td = data[\"training_data\"]\n",
    "    tl = np.ravel(data[\"training_labels\"])\n",
    "    test = data[\"test_data\"]\n",
    "    \n",
    "    scaler = StandardScaler()\n",
    "    scaler.fit_transform(td)\n",
    "    scaler.transform(test)\n",
    "    \n",
    "    alg = svm.SVC(max_iter = 10000, kernel = 'rbf', C = 14.3)\n",
    "    alg.fit(td, tl)\n",
    "    vp = alg.predict(test)\n",
    "    return alg, vp"
   ]
  },
  {
   "cell_type": "code",
   "execution_count": 83,
   "id": "0f1108da-f5d2-46b8-a003-8bae4abe0f75",
   "metadata": {},
   "outputs": [],
   "source": [
    "load_and_save(\"spam_data.mat\", percent = 0.2)"
   ]
  },
  {
   "cell_type": "code",
   "execution_count": 84,
   "id": "60e2aa5e-f82c-4f22-aab9-536e0a40eb8c",
   "metadata": {},
   "outputs": [],
   "source": [
    "sata_fin = io.loadmat(\"prep_spam_data.mat\")"
   ]
  },
  {
   "cell_type": "code",
   "execution_count": 94,
   "id": "9aa03a62-eae9-4dbb-8de4-bdb01407e59a",
   "metadata": {},
   "outputs": [],
   "source": [
    "from sklearn.preprocessing import StandardScaler\n",
    "#C_vals = np.logspace(-5, 10, 10)\n",
    "#C_vals = np.logspace(0.6, 1.4, 10)\n",
    "C_vals = np.linspace(10, 16, 10)\n",
    "res = [perform_training_spam(sata_fin, 5000, i) for i in C_vals]"
   ]
  },
  {
   "cell_type": "code",
   "execution_count": 95,
   "id": "2e49a0eb-89c2-4c9b-91df-badc9659e652",
   "metadata": {},
   "outputs": [
    {
     "data": {
      "text/plain": [
       "[]"
      ]
     },
     "execution_count": 95,
     "metadata": {},
     "output_type": "execute_result"
    },
    {
     "data": {
      "image/png": "[encoded data removed]",
      "text/plain": [
       "<Figure size 432x288 with 1 Axes>"
      ]
     },
     "metadata": {
      "needs_background": "light"
     },
     "output_type": "display_data"
    }
   ],
   "source": [
    "res = np.array(res)\n",
    "plt.plot(C_vals, res)\n",
    "plt.semilogx()"
   ]
  },
  {
   "cell_type": "code",
   "execution_count": 96,
   "id": "9e30bd7e-84d1-4545-b773-b63f3b0d6119",
   "metadata": {},
   "outputs": [
    {
     "data": {
      "text/plain": [
       "0.9535783365570599"
      ]
     },
     "execution_count": 96,
     "metadata": {},
     "output_type": "execute_result"
    }
   ],
   "source": [
    "perform_training_spam(sata_fin, 5000, 14.3)"
   ]
  },
  {
   "cell_type": "code",
   "execution_count": 98,
   "id": "a2c5b3f1-f0b2-4454-8e1d-26b381e41cbe",
   "metadata": {},
   "outputs": [],
   "source": [
    "data_final = io.loadmat(\"spam_data.mat\")"
   ]
  },
  {
   "cell_type": "code",
   "execution_count": 104,
   "id": "767c31ef-fdc3-4d96-a1c8-90fa43b5223a",
   "metadata": {},
   "outputs": [],
   "source": [
    "alg, pred = perform_training_spam_final(data_final)"
   ]
  },
  {
   "cell_type": "code",
   "execution_count": 111,
   "id": "248e3a85-f8e3-4692-8937-a2ab682e7df4",
   "metadata": {},
   "outputs": [],
   "source": [
    "idx = list(range(1, len(pred) + 1))"
   ]
  },
  {
   "cell_type": "code",
   "execution_count": 112,
   "id": "100a8811-b211-418b-840f-c6ea24089bee",
   "metadata": {},
   "outputs": [],
   "source": [
    "pre_csv = np.array(list(zip(idx, pred)), dtype = int)"
   ]
  },
  {
   "cell_type": "code",
   "execution_count": 113,
   "id": "afdd26c8-4fae-450d-93df-d006bf7780cc",
   "metadata": {},
   "outputs": [],
   "source": [
    "np.savetxt(\"shri_pred_spam.csv\", pre_csv, fmt = '%s', delimiter=',')"
   ]
  },
  {
   "cell_type": "code",
   "execution_count": 135,
   "id": "9c710eba-645f-4538-a134-a317dc4416bc",
   "metadata": {},
   "outputs": [],
   "source": [
    "def split_data(train, labels, num_valid):\n",
    "    num_data = train.shape[0]\n",
    "    assert num_valid <= len(train)\n",
    "    assert num_data == labels.shape[0]\n",
    "    idx = np.arange(num_data)\n",
    "    np.random.shuffle(idx)\n",
    "    train_shf = train[idx]\n",
    "    lbl_shf = labels[idx]\n",
    "    valid_dat = train_shf[:num_valid]\n",
    "    valid_lbl = lbl_shf[:num_valid]\n",
    "    train_dat = train_shf[num_valid:]\n",
    "    train_lbl = lbl_shf[num_valid:]\n",
    "    return train_dat, train_lbl, valid_dat, valid_lbl\n",
    "\n",
    "def load_and_save(filename, num = None, percent = None):\n",
    "    dataset = io.loadmat(filename)\n",
    "    if percent:\n",
    "        num = int(dataset[\"training_labels\"].shape[0] * percent)\n",
    "    t_dat, t_lbl, v_dat, v_lbl = split_data(dataset[\"training_data\"], \n",
    "                                            dataset[\"training_labels\"],\n",
    "                                            num)\n",
    "    dataset[\"training_data\"] = t_dat\n",
    "    dataset[\"training_labels\"] = t_lbl\n",
    "    dataset[\"valid_data\"] = v_dat\n",
    "    dataset[\"valid_labels\"] = v_lbl\n",
    "    \n",
    "    io.savemat(\"prep_\"+filename, dataset)\n",
    "    \n",
    "def perform_training_cifar(data, num, C_val):\n",
    "    \n",
    "    td = data[\"training_data\"][:num]\n",
    "    tl = np.ravel(data[\"training_labels\"])[:num]\n",
    "    vd = data[\"valid_data\"][:num]\n",
    "    vl = np.ravel(data[\"valid_labels\"])[:num]\n",
    "    \n",
    "    scaler = StandardScaler()\n",
    "    scaler.fit_transform(td)\n",
    "    scaler.transform(vd)\n",
    "    \n",
    "    alg = svm.SVC(max_iter = 5000, kernel = 'rbf', C = C_val)\n",
    "    alg.fit(td, tl)\n",
    "    vp = alg.predict(vd)\n",
    "    tp = alg.predict(td)\n",
    "    vacc = accuracy_score(vl, vp)\n",
    "    tacc = accuracy_score(tl, tp)\n",
    "    return vacc\n",
    "\n",
    "def perform_training_cifar_final(data, C_val):\n",
    "    \n",
    "    td = data[\"training_data\"]\n",
    "    tl = np.ravel(data[\"training_labels\"])\n",
    "    vd = data[\"test_data\"]\n",
    "    \n",
    "    scaler = StandardScaler()\n",
    "    scaler.fit_transform(td)\n",
    "    scaler.transform(vd)\n",
    "    \n",
    "    alg = svm.SVC(max_iter = 5000, kernel = 'rbf', C = C_val)\n",
    "    alg.fit(td, tl)\n",
    "    vp = alg.predict(vd)\n",
    "    return alg, vp"
   ]
  },
  {
   "cell_type": "code",
   "execution_count": 118,
   "id": "cb48cdbe-dce1-428d-8acf-eef9cdde3570",
   "metadata": {},
   "outputs": [],
   "source": [
    "load_and_save(\"cifar10_data.mat\", num = 5000)"
   ]
  },
  {
   "cell_type": "code",
   "execution_count": 119,
   "id": "83fe72b8-2823-4b4e-8e0a-4b70e8a81a8d",
   "metadata": {},
   "outputs": [],
   "source": [
    "cata = io.loadmat(\"prep_cifar10_data.mat\")"
   ]
  },
  {
   "cell_type": "code",
   "execution_count": 125,
   "id": "195b1f98-b426-456b-978e-b8ca194003d4",
   "metadata": {},
   "outputs": [],
   "source": [
    "#C_vals = np.logspace(-5, 5, 10)\n",
    "C_vals = np.logspace(0, 30, 10)\n",
    "res = np.array([perform_training_cifar(cata, 1000, i) for i in C_vals])"
   ]
  },
  {
   "cell_type": "code",
   "execution_count": 126,
   "id": "a139f0c6-3fd5-45ac-b8df-1aa1d7dddf65",
   "metadata": {},
   "outputs": [
    {
     "data": {
      "text/plain": [
       "[]"
      ]
     },
     "execution_count": 126,
     "metadata": {},
     "output_type": "execute_result"
    },
    {
     "data": {
      "image/png": "[encoded data removed]",
      "text/plain": [
       "<Figure size 432x288 with 1 Axes>"
      ]
     },
     "metadata": {
      "needs_background": "light"
     },
     "output_type": "display_data"
    }
   ],
   "source": [
    "plt.plot(C_vals, res)\n",
    "plt.semilogx()"
   ]
  },
  {
   "cell_type": "code",
   "execution_count": 128,
   "id": "52df4401-896b-4f2a-af8f-a20f6abd8b60",
   "metadata": {},
   "outputs": [],
   "source": [
    "cata_fin = io.loadmat(\"cifar10_data.mat\")"
   ]
  },
  {
   "cell_type": "code",
   "execution_count": null,
   "id": "9ec5d829-ea71-4748-8a5c-b7399c2b73b5",
   "metadata": {},
   "outputs": [],
   "source": [
    "alg, vp = perform_training_cifar_final(cata_fin, 1e7)"
   ]
  },
  {
   "cell_type": "code",
   "execution_count": null,
   "id": "10cc8aa9-7dfd-46dc-badf-f7afbf958874",
   "metadata": {},
   "outputs": [],
   "source": [
    "idx = list(range(1, len(vp) + 1))"
   ]
  },
  {
   "cell_type": "code",
   "execution_count": null,
   "id": "6e088481-dee2-424c-a030-0d6a56f284f6",
   "metadata": {},
   "outputs": [],
   "source": [
    "pre_csv = np.array(list(zip(idx, vp)), dtype = int)"
   ]
  },
  {
   "cell_type": "code",
   "execution_count": null,
   "id": "00dd632e-21bc-4b63-b20e-0d16f85f1d09",
   "metadata": {},
   "outputs": [],
   "source": [
    "np.savetxt(\"shri_pred_cifar.csv\", pre_csv, fmt = '%s', delimiter=',')"
   ]
  },
  {
   "cell_type": "code",
   "execution_count": null,
   "id": "1ca31065-78d7-4eb2-9205-c6192f2def99",
   "metadata": {},
   "outputs": [],
   "source": []
  }
 ],
 "metadata": {
  "kernelspec": {
   "display_name": "Python 3 (ipykernel)",
   "language": "python",
   "name": "python3"
  },
  "language_info": {
   "codemirror_mode": {
    "name": "ipython",
    "version": 3
   },
   "file_extension": ".py",
   "mimetype": "text/x-python",
   "name": "python",
   "nbconvert_exporter": "python",
   "pygments_lexer": "ipython3",
   "version": "3.7.11"
  }
 },
 "nbformat": 4,
 "nbformat_minor": 5
}
