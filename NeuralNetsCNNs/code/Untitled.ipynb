{
 "cells": [
  {
   "cell_type": "code",
   "execution_count": 35,
   "id": "ff2fdbf0-dbed-4793-9cb2-44a49edf5b98",
   "metadata": {},
   "outputs": [],
   "source": [
    "import numpy as np\n",
    "z = np.random.randint(0, 10, size = 4)"
   ]
  },
  {
   "cell_type": "code",
   "execution_count": 36,
   "id": "d70c90c6-425b-4027-8c6a-e9622b0485c7",
   "metadata": {},
   "outputs": [
    {
     "data": {
      "text/plain": [
       "(4,)"
      ]
     },
     "execution_count": 36,
     "metadata": {},
     "output_type": "execute_result"
    }
   ],
   "source": [
    "z.shape"
   ]
  },
  {
   "cell_type": "code",
   "execution_count": 39,
   "id": "49ff8c30-020d-4157-9882-362e2134f8aa",
   "metadata": {},
   "outputs": [
    {
     "data": {
      "text/plain": [
       "array([3, 9, 8, 0])"
      ]
     },
     "execution_count": 39,
     "metadata": {},
     "output_type": "execute_result"
    }
   ],
   "source": [
    "z"
   ]
  },
  {
   "cell_type": "code",
   "execution_count": 46,
   "id": "b597bde3-320a-4909-811a-e4c6beca34c2",
   "metadata": {},
   "outputs": [],
   "source": [
    "a = np.outer(z, z)"
   ]
  },
  {
   "cell_type": "code",
   "execution_count": 47,
   "id": "fa5c62e4-bf34-4c14-a83f-cc6864ca578c",
   "metadata": {},
   "outputs": [
    {
     "data": {
      "text/plain": [
       "array([[ 9, 27, 24,  0],\n",
       "       [27, 81, 72,  0],\n",
       "       [24, 72, 64,  0],\n",
       "       [ 0,  0,  0,  0]])"
      ]
     },
     "execution_count": 47,
     "metadata": {},
     "output_type": "execute_result"
    }
   ],
   "source": [
    "a"
   ]
  },
  {
   "cell_type": "code",
   "execution_count": 42,
   "id": "de7af8a9-f150-4b05-b73e-ace57fc44477",
   "metadata": {},
   "outputs": [
    {
     "data": {
      "text/plain": [
       "(4, 4)"
      ]
     },
     "execution_count": 42,
     "metadata": {},
     "output_type": "execute_result"
    }
   ],
   "source": [
    "a.shape"
   ]
  },
  {
   "cell_type": "code",
   "execution_count": 43,
   "id": "cd304e44-dc64-434e-b234-c7896a7b9fc9",
   "metadata": {},
   "outputs": [],
   "source": [
    "a = np.matmul(z, z.T)"
   ]
  },
  {
   "cell_type": "code",
   "execution_count": 51,
   "id": "82c90e3e-d3be-4f16-949e-93041dc6fda8",
   "metadata": {},
   "outputs": [],
   "source": [
    "z = np.random.randint(0, 10, size = (4, 4))"
   ]
  },
  {
   "cell_type": "code",
   "execution_count": 58,
   "id": "e3a434d8-a754-493d-abee-09ae9849eef5",
   "metadata": {},
   "outputs": [
    {
     "data": {
      "text/plain": [
       "array([[5, 6, 0, 4],\n",
       "       [4, 6, 7, 6],\n",
       "       [6, 0, 6, 0],\n",
       "       [9, 3, 9, 0]])"
      ]
     },
     "execution_count": 58,
     "metadata": {},
     "output_type": "execute_result"
    }
   ],
   "source": [
    "z"
   ]
  },
  {
   "cell_type": "code",
   "execution_count": 60,
   "id": "2f57a6da-fd4f-4388-b4aa-e0124f7d8701",
   "metadata": {},
   "outputs": [
    {
     "data": {
      "text/plain": [
       "array([4, 6, 7, 6])"
      ]
     },
     "execution_count": 60,
     "metadata": {},
     "output_type": "execute_result"
    }
   ],
   "source": [
    "z[1, :]"
   ]
  },
  {
   "cell_type": "code",
   "execution_count": 55,
   "id": "f0432369-1ba3-4615-b966-c26e76772f4e",
   "metadata": {},
   "outputs": [
    {
     "data": {
      "text/plain": [
       "array([15, 23, 12, 21])"
      ]
     },
     "execution_count": 55,
     "metadata": {},
     "output_type": "execute_result"
    }
   ],
   "source": [
    "np.sum(z, axis = 1)"
   ]
  },
  {
   "cell_type": "code",
   "execution_count": 27,
   "id": "f3d9d7ca-8b32-4b83-8b30-1a4f446c5b1a",
   "metadata": {},
   "outputs": [
    {
     "data": {
      "text/plain": [
       "(3, 3)"
      ]
     },
     "execution_count": 27,
     "metadata": {},
     "output_type": "execute_result"
    }
   ],
   "source": [
    "a.shape"
   ]
  },
  {
   "cell_type": "code",
   "execution_count": 18,
   "id": "1805995b-c85e-454a-9632-c91063936954",
   "metadata": {},
   "outputs": [
    {
     "data": {
      "text/plain": [
       "array([0.79064658, 0.85127701])"
      ]
     },
     "execution_count": 18,
     "metadata": {},
     "output_type": "execute_result"
    }
   ],
   "source": [
    "np.diag(z)"
   ]
  },
  {
   "cell_type": "code",
   "execution_count": 69,
   "id": "091c495f-138e-456a-b82d-7f1821671231",
   "metadata": {},
   "outputs": [],
   "source": [
    "b = np.arange(3)"
   ]
  },
  {
   "cell_type": "code",
   "execution_count": 70,
   "id": "1ccc39d9-ec56-467f-a332-9955d33fbd8e",
   "metadata": {},
   "outputs": [],
   "source": [
    "a = np.random.randint(0, 10, size = (3, 4))"
   ]
  },
  {
   "cell_type": "code",
   "execution_count": 71,
   "id": "490f5efc-aa80-44dc-90f2-ae22453feec5",
   "metadata": {},
   "outputs": [
    {
     "data": {
      "text/plain": [
       "array([[2, 1, 2, 8],\n",
       "       [7, 1, 6, 1],\n",
       "       [6, 3, 2, 3]])"
      ]
     },
     "execution_count": 71,
     "metadata": {},
     "output_type": "execute_result"
    }
   ],
   "source": [
    "a"
   ]
  },
  {
   "cell_type": "code",
   "execution_count": 72,
   "id": "be5d7fb5-2351-4f43-9f7f-0f673503cd46",
   "metadata": {},
   "outputs": [
    {
     "data": {
      "text/plain": [
       "array([0, 1, 2])"
      ]
     },
     "execution_count": 72,
     "metadata": {},
     "output_type": "execute_result"
    }
   ],
   "source": [
    "b"
   ]
  },
  {
   "cell_type": "code",
   "execution_count": 75,
   "id": "5addd6ee-857a-40d2-b780-5be800a4c1ce",
   "metadata": {},
   "outputs": [
    {
     "data": {
      "text/plain": [
       "array([[0],\n",
       "       [1],\n",
       "       [2]])"
      ]
     },
     "execution_count": 75,
     "metadata": {},
     "output_type": "execute_result"
    }
   ],
   "source": [
    "b[:, np.newaxis]"
   ]
  },
  {
   "cell_type": "code",
   "execution_count": 74,
   "id": "4aae09fc-469c-4e92-8ad1-b23fc20ae49f",
   "metadata": {},
   "outputs": [
    {
     "data": {
      "text/plain": [
       "array([[2, 1, 2, 8],\n",
       "       [6, 0, 5, 0],\n",
       "       [4, 1, 0, 1]])"
      ]
     },
     "execution_count": 74,
     "metadata": {},
     "output_type": "execute_result"
    }
   ],
   "source": [
    "a - b[:, np.newaxis]"
   ]
  },
  {
   "cell_type": "code",
   "execution_count": null,
   "id": "96bfcf79-ba54-4ca1-9226-afc4cba96281",
   "metadata": {},
   "outputs": [],
   "source": []
  }
 ],
 "metadata": {
  "kernelspec": {
   "display_name": "Python 3",
   "language": "python",
   "name": "python3"
  },
  "language_info": {
   "codemirror_mode": {
    "name": "ipython",
    "version": 3
   },
   "file_extension": ".py",
   "mimetype": "text/x-python",
   "name": "python",
   "nbconvert_exporter": "python",
   "pygments_lexer": "ipython3",
   "version": "3.8.13"
  }
 },
 "nbformat": 4,
 "nbformat_minor": 5
}
