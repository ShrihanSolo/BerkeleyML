{
 "cells": [
  {
   "cell_type": "code",
   "execution_count": 1,
   "id": "85dd24b8-7308-4a8f-9115-f4a2df2b3c1a",
   "metadata": {},
   "outputs": [],
   "source": [
    "\n",
    "import numpy as np\n",
    "import matplotlib.pyplot as plt\n",
    "from sklearn import svm\n",
    "from sklearn.metrics import accuracy_score\n",
    "from scipy import io\n",
    "\n"
   ]
  },
  {
   "cell_type": "code",
   "execution_count": 2,
   "id": "f85b029a-897b-4624-9c21-c74067249c54",
   "metadata": {},
   "outputs": [],
   "source": [
    "mnist = io.loadmat(\"data/mnist_data.mat\")"
   ]
  },
  {
   "cell_type": "code",
   "execution_count": 13,
   "id": "364dd322-b559-4e59-9820-d8f4b3fc454c",
   "metadata": {},
   "outputs": [
    {
     "data": {
      "text/plain": [
       "<matplotlib.image.AxesImage at 0x7f95340b2a10>"
      ]
     },
     "execution_count": 13,
     "metadata": {},
     "output_type": "execute_result"
    },
    {
     "data": {
      "image/png": "[encoded data removed]",
      "text/plain": [
       "<Figure size 432x288 with 1 Axes>"
      ]
     },
     "metadata": {
      "needs_background": "light"
     },
     "output_type": "display_data"
    }
   ],
   "source": [
    "plt.imshow(mnist[\"training_data\"][24].reshape(28, 28))"
   ]
  },
  {
   "cell_type": "code",
   "execution_count": 22,
   "id": "e73702f7-fc2d-4fbc-a4bf-1c63eb244bd3",
   "metadata": {},
   "outputs": [],
   "source": [
    "idx = np.arange(mnist[\"training_data\"].shape[0])"
   ]
  },
  {
   "cell_type": "code",
   "execution_count": 23,
   "id": "4f398538-d6a9-4e3a-a3de-5a39c44b57eb",
   "metadata": {},
   "outputs": [],
   "source": [
    "np.random.shuffle(idx)"
   ]
  },
  {
   "cell_type": "code",
   "execution_count": 25,
   "id": "da14758a-cd45-4311-b055-cffff084e1d1",
   "metadata": {},
   "outputs": [],
   "source": [
    "train = mnist[\"training_data\"]\n",
    "labels = mnist[\"training_labels\"]"
   ]
  },
  {
   "cell_type": "code",
   "execution_count": 26,
   "id": "b06110e5-0849-4ff0-8cb8-221c349f0d61",
   "metadata": {},
   "outputs": [],
   "source": [
    "train_shf = train[idx]\n",
    "lbl_shf = labels[idx]"
   ]
  },
  {
   "cell_type": "code",
   "execution_count": 32,
   "id": "05abda4d-7d75-417e-be02-39d1755fd37c",
   "metadata": {},
   "outputs": [
    {
     "data": {
      "text/plain": [
       "<matplotlib.image.AxesImage at 0x7f94f00baad0>"
      ]
     },
     "execution_count": 32,
     "metadata": {},
     "output_type": "execute_result"
    },
    {
     "data": {
      "image/png": "[encoded data removed]",
      "text/plain": [
       "<Figure size 432x288 with 1 Axes>"
      ]
     },
     "metadata": {
      "needs_background": "light"
     },
     "output_type": "display_data"
    }
   ],
   "source": [
    "plt.imshow(train_shf[2134].reshape(28, 28))"
   ]
  },
  {
   "cell_type": "code",
   "execution_count": 37,
   "id": "4096a237-3588-4ac4-9ea1-9b61d976044a",
   "metadata": {},
   "outputs": [],
   "source": [
    "valid_dat = train_shf[:10000]\n",
    "valid_lbl = lbl_shf[:10000]\n",
    "train_f = train_shf[10000:]\n",
    "lbl_f = lbl_shf[10000:]"
   ]
  },
  {
   "cell_type": "code",
   "execution_count": 41,
   "id": "f75a62e4-fab7-4c14-ae34-e2688b8d4c68",
   "metadata": {},
   "outputs": [
    {
     "data": {
      "text/plain": [
       "<matplotlib.image.AxesImage at 0x7f950024fb90>"
      ]
     },
     "execution_count": 41,
     "metadata": {},
     "output_type": "execute_result"
    },
    {
     "data": {
      "image/png": "[encoded data removed]",
      "text/plain": [
       "<Figure size 432x288 with 1 Axes>"
      ]
     },
     "metadata": {
      "needs_background": "light"
     },
     "output_type": "display_data"
    }
   ],
   "source": [
    "plt.imshow(train_f[234].reshape(28, 28))"
   ]
  },
  {
   "cell_type": "code",
   "execution_count": 42,
   "id": "abc055a5-c8d2-42b6-a374-cc6b7fd666bd",
   "metadata": {},
   "outputs": [
    {
     "data": {
      "text/plain": [
       "(50000, 1)"
      ]
     },
     "execution_count": 42,
     "metadata": {},
     "output_type": "execute_result"
    }
   ],
   "source": [
    "lbl_f.shape"
   ]
  },
  {
   "cell_type": "code",
   "execution_count": 44,
   "id": "b32b2f0d-02b3-4ae8-8009-90cfa9032a4f",
   "metadata": {},
   "outputs": [
    {
     "data": {
      "text/plain": [
       "(10000, 784)"
      ]
     },
     "execution_count": 44,
     "metadata": {},
     "output_type": "execute_result"
    }
   ],
   "source": [
    "valid_dat.shape"
   ]
  },
  {
   "cell_type": "code",
   "execution_count": 45,
   "id": "8a5ca1fe-791f-4be2-82d5-0bdb2ad5f56b",
   "metadata": {},
   "outputs": [
    {
     "data": {
      "text/plain": [
       "(50000, 784)"
      ]
     },
     "execution_count": 45,
     "metadata": {},
     "output_type": "execute_result"
    }
   ],
   "source": [
    "train_f.shape"
   ]
  },
  {
   "cell_type": "code",
   "execution_count": 48,
   "id": "6c383ad9-66ae-4f8e-8ad0-7cc2ee65b637",
   "metadata": {},
   "outputs": [],
   "source": [
    "def split_data(train, labels, num_valid):\n",
    "    num_data = train.shape[0]\n",
    "    assert num_valid <= len(train)\n",
    "    assert num_data == labels.shape[0]\n",
    "    idx = np.arange(num_data)\n",
    "    np.random.shuffle(idx)\n",
    "    train_shf = train[idx]\n",
    "    lbl_shf = labels[idx]\n",
    "    valid_dat = train_shf[:num_valid]\n",
    "    valid_lbl = lbl_shf[:num_valid]\n",
    "    train_dat = train_shf[num_valid:]\n",
    "    train_lbl = lbl_shf[num_valid:]\n",
    "    return train_dat, train_lbl, valid_dat, valid_lbl"
   ]
  },
  {
   "cell_type": "code",
   "execution_count": 76,
   "id": "2120cc88-d2e3-4dc6-b50a-c626861cae89",
   "metadata": {},
   "outputs": [],
   "source": [
    "def load_and_save(filename, num = None, percent = None):\n",
    "    dataset = io.loadmat(\"data/\" + filename)\n",
    "    if percent:\n",
    "        num = int(dataset[\"training_labels\"].shape[0] * percent)\n",
    "    t_dat, t_lbl, v_dat, v_lbl = split_data(dataset[\"training_data\"], \n",
    "                                            dataset[\"training_labels\"],\n",
    "                                            num)\n",
    "    dataset[\"training_data\"] = t_dat\n",
    "    dataset[\"training_labels\"] = t_lbl\n",
    "    dataset[\"valid_data\"] = v_dat\n",
    "    dataset[\"valid_labels\"] = v_lbl\n",
    "    \n",
    "    io.savemat(\"data/prep_\" + filename, dataset)\n",
    "    "
   ]
  },
  {
   "cell_type": "code",
   "execution_count": 77,
   "id": "fd8e13ed-b31c-4669-8e7d-fd67d62e8558",
   "metadata": {},
   "outputs": [],
   "source": [
    "load_and_save(\"mnist_data.mat\", num = 10000)\n",
    "load_and_save(\"spam_data.mat\", percent = 0.2)\n",
    "load_and_save(\"cifar10_data.mat\", num = 5000)"
   ]
  },
  {
   "cell_type": "code",
   "execution_count": 56,
   "id": "36264680-1e19-4f68-a289-c604ef764041",
   "metadata": {},
   "outputs": [
    {
     "data": {
      "text/plain": [
       "array([6], dtype=uint8)"
      ]
     },
     "execution_count": 56,
     "metadata": {},
     "output_type": "execute_result"
    }
   ],
   "source": [
    "b[234]"
   ]
  },
  {
   "cell_type": "code",
   "execution_count": 57,
   "id": "243d2c8f-70ef-4107-8f20-8dcce3f0a93c",
   "metadata": {},
   "outputs": [
    {
     "data": {
      "text/plain": [
       "<matplotlib.image.AxesImage at 0x7f9534260850>"
      ]
     },
     "execution_count": 57,
     "metadata": {},
     "output_type": "execute_result"
    },
    {
     "data": {
      "image/png": "[encoded data removed]",
      "text/plain": [
       "<Figure size 432x288 with 1 Axes>"
      ]
     },
     "metadata": {
      "needs_background": "light"
     },
     "output_type": "display_data"
    }
   ],
   "source": [
    "plt.imshow(c[234].reshape(28, 28))"
   ]
  },
  {
   "cell_type": "code",
   "execution_count": 58,
   "id": "a06fbfaa-f60b-484d-a016-26b46b31fd69",
   "metadata": {},
   "outputs": [
    {
     "data": {
      "text/plain": [
       "array([5], dtype=uint8)"
      ]
     },
     "execution_count": 58,
     "metadata": {},
     "output_type": "execute_result"
    }
   ],
   "source": [
    "d[234]"
   ]
  },
  {
   "cell_type": "code",
   "execution_count": 59,
   "id": "1446305d-c525-40e6-83a0-19870f490882",
   "metadata": {},
   "outputs": [
    {
     "data": {
      "text/plain": [
       "{'__header__': b'MATLAB 5.0 MAT-file Platform: posix, Created on: Tue Jan 18 18:01:01 2022',\n",
       " '__version__': '1.0',\n",
       " '__globals__': [],\n",
       " 'training_data': array([[0, 0, 0, ..., 0, 0, 0],\n",
       "        [0, 0, 0, ..., 0, 0, 0],\n",
       "        [0, 0, 0, ..., 0, 0, 0],\n",
       "        ...,\n",
       "        [0, 0, 0, ..., 0, 0, 0],\n",
       "        [0, 0, 0, ..., 0, 0, 0],\n",
       "        [0, 0, 0, ..., 0, 0, 0]], dtype=uint8),\n",
       " 'training_labels': array([[1],\n",
       "        [2],\n",
       "        [5],\n",
       "        ...,\n",
       "        [1],\n",
       "        [3],\n",
       "        [8]], dtype=uint8),\n",
       " 'test_data': array([[0, 0, 0, ..., 0, 0, 0],\n",
       "        [0, 0, 0, ..., 0, 0, 0],\n",
       "        [0, 0, 0, ..., 0, 0, 0],\n",
       "        ...,\n",
       "        [0, 0, 0, ..., 0, 0, 0],\n",
       "        [0, 0, 0, ..., 0, 0, 0],\n",
       "        [0, 0, 0, ..., 0, 0, 0]], dtype=uint8)}"
      ]
     },
     "execution_count": 59,
     "metadata": {},
     "output_type": "execute_result"
    }
   ],
   "source": [
    "mnist"
   ]
  },
  {
   "cell_type": "code",
   "execution_count": 2,
   "id": "204acbc9-137f-45c5-a82f-7896b3e448d2",
   "metadata": {},
   "outputs": [],
   "source": [
    "data = io.loadmat(\"data/prep_mnist_data.mat\")"
   ]
  },
  {
   "cell_type": "code",
   "execution_count": 24,
   "id": "7d74f1c8-b6a7-44df-b695-40b887120ee9",
   "metadata": {},
   "outputs": [],
   "source": [
    "def perform_training_mnist(data, num):\n",
    "    td = data[\"training_data\"][:num] / 255\n",
    "    tl = np.ravel(data[\"training_labels\"])[:num]\n",
    "    vd = data[\"valid_data\"][:num] / 255\n",
    "    vl = np.ravel(data[\"valid_labels\"])[:num]\n",
    "    alg = svm.LinearSVC(max_iter = 5000)\n",
    "    alg.fit(td, tl)\n",
    "    vp = alg.predict(vd)\n",
    "    tp = alg.predict(td)\n",
    "    vacc = accuracy_score(vl, vp)\n",
    "    tacc = accuracy_score(tl, tp)\n",
    "    return num, vacc, tacc"
   ]
  },
  {
   "cell_type": "code",
   "execution_count": 25,
   "id": "9a61cf8e-6aad-4b36-83c3-21ac8996d8fc",
   "metadata": {},
   "outputs": [
    {
     "name": "stderr",
     "output_type": "stream",
     "text": [
      "/Users/shri/opt/miniconda3/envs/astroconda/lib/python3.7/site-packages/sklearn/svm/_base.py:977: ConvergenceWarning: Liblinear failed to converge, increase the number of iterations.\n",
      "  \"the number of iterations.\", ConvergenceWarning)\n"
     ]
    }
   ],
   "source": [
    "qt = [100, 200, 500, 1000, 2000, 5000, 10000]\n",
    "tot_acc = np.array([perform_training_mnist(data, i) for i in qt])"
   ]
  },
  {
   "cell_type": "code",
   "execution_count": 26,
   "id": "fad9ae6f-eed9-4320-847f-a39a9e3c17b3",
   "metadata": {},
   "outputs": [
    {
     "data": {
      "text/plain": [
       "Text(0, 0.5, 'Accuracy')"
      ]
     },
     "execution_count": 26,
     "metadata": {},
     "output_type": "execute_result"
    },
    {
     "data": {
      "image/png": "[encoded data removed]",
      "text/plain": [
       "<Figure size 432x288 with 1 Axes>"
      ]
     },
     "metadata": {
      "needs_background": "light"
     },
     "output_type": "display_data"
    }
   ],
   "source": [
    "plt.plot(qt, tot_acc.T[2], label = \"Training\")\n",
    "plt.plot(qt, tot_acc.T[1], label = \"Validation\")\n",
    "plt.title(\"MNIST Accuracy vs. Number of Datapoints\")\n",
    "plt.legend()\n",
    "plt.xlabel(\"Number\")\n",
    "plt.ylabel(\"Accuracy\")"
   ]
  },
  {
   "cell_type": "code",
   "execution_count": 27,
   "id": "f74e7f0f-8471-4e78-8d42-bc5d21466222",
   "metadata": {},
   "outputs": [],
   "source": [
    "sata = io.loadmat(\"data/prep_spam_data.mat\")"
   ]
  },
  {
   "cell_type": "code",
   "execution_count": 28,
   "id": "52a3343f-cdf8-40df-b334-0968c7c68c4d",
   "metadata": {},
   "outputs": [],
   "source": [
    "def perform_training_spam(data, num):\n",
    "    td = data[\"training_data\"][:num]\n",
    "    tl = np.ravel(data[\"training_labels\"])[:num]\n",
    "    vd = data[\"valid_data\"][:num]\n",
    "    vl = np.ravel(data[\"valid_labels\"])[:num]\n",
    "    alg = svm.LinearSVC(max_iter = 100000)\n",
    "    alg.fit(td, tl)\n",
    "    vp = alg.predict(vd)\n",
    "    tp = alg.predict(td)\n",
    "    vacc = accuracy_score(vl, vp)\n",
    "    tacc = accuracy_score(tl, tp)\n",
    "    return num, vacc, tacc"
   ]
  },
  {
   "cell_type": "code",
   "execution_count": 29,
   "id": "888dc9d2-4040-46a1-ae0c-22bac16233cc",
   "metadata": {},
   "outputs": [
    {
     "name": "stderr",
     "output_type": "stream",
     "text": [
      "/Users/shri/opt/miniconda3/envs/astroconda/lib/python3.7/site-packages/sklearn/svm/_base.py:977: ConvergenceWarning: Liblinear failed to converge, increase the number of iterations.\n",
      "  \"the number of iterations.\", ConvergenceWarning)\n"
     ]
    }
   ],
   "source": [
    "qt = [100, 200, 500, 1000, 2000, 4139]\n",
    "tot_vacc = np.array([perform_training_spam(sata, i) for i in qt])"
   ]
  },
  {
   "cell_type": "code",
   "execution_count": 30,
   "id": "e85099fe-76f5-47b0-8eb9-b8defc3fe180",
   "metadata": {},
   "outputs": [
    {
     "data": {
      "text/plain": [
       "Text(0, 0.5, 'Accuracy')"
      ]
     },
     "execution_count": 30,
     "metadata": {},
     "output_type": "execute_result"
    },
    {
     "data": {
      "image/png": "[encoded data removed]",
      "text/plain": [
       "<Figure size 432x288 with 1 Axes>"
      ]
     },
     "metadata": {
      "needs_background": "light"
     },
     "output_type": "display_data"
    }
   ],
   "source": [
    "plt.plot(qt, tot_vacc.T[2], label = \"Training\")\n",
    "plt.plot(qt, tot_vacc.T[1], label = \"Validation\")\n",
    "plt.title(\"SPAM Accuracy vs. Number of Datapoints\")\n",
    "plt.legend()\n",
    "plt.xlabel(\"Number\")\n",
    "plt.ylabel(\"Accuracy\")"
   ]
  },
  {
   "cell_type": "code",
   "execution_count": 31,
   "id": "6fc109b5-4861-4b67-a2e8-a3a497a9927a",
   "metadata": {},
   "outputs": [],
   "source": [
    "cata = io.loadmat(\"data/prep_cifar10_data.mat\")"
   ]
  },
  {
   "cell_type": "code",
   "execution_count": 36,
   "id": "164f936f-5c81-4797-b47e-1b368e7b7c95",
   "metadata": {},
   "outputs": [
    {
     "name": "stderr",
     "output_type": "stream",
     "text": [
      "/Users/shri/opt/miniconda3/envs/astroconda/lib/python3.7/site-packages/sklearn/svm/_base.py:977: ConvergenceWarning: Liblinear failed to converge, increase the number of iterations.\n",
      "  \"the number of iterations.\", ConvergenceWarning)\n",
      "/Users/shri/opt/miniconda3/envs/astroconda/lib/python3.7/site-packages/sklearn/svm/_base.py:977: ConvergenceWarning: Liblinear failed to converge, increase the number of iterations.\n",
      "  \"the number of iterations.\", ConvergenceWarning)\n",
      "/Users/shri/opt/miniconda3/envs/astroconda/lib/python3.7/site-packages/sklearn/svm/_base.py:977: ConvergenceWarning: Liblinear failed to converge, increase the number of iterations.\n",
      "  \"the number of iterations.\", ConvergenceWarning)\n",
      "/Users/shri/opt/miniconda3/envs/astroconda/lib/python3.7/site-packages/sklearn/svm/_base.py:977: ConvergenceWarning: Liblinear failed to converge, increase the number of iterations.\n",
      "  \"the number of iterations.\", ConvergenceWarning)\n"
     ]
    }
   ],
   "source": [
    "qt = [100, 200, 500, 1000, 2000, 5000]\n",
    "tot_acc = np.array([perform_training_mnist(cata, i) for i in qt])"
   ]
  },
  {
   "cell_type": "code",
   "execution_count": 37,
   "id": "7de0891a-6dab-4ae9-bd80-1d2b65e16200",
   "metadata": {},
   "outputs": [
    {
     "data": {
      "text/plain": [
       "array([[1.000e+02, 2.000e-01, 1.000e+00],\n",
       "       [2.000e+02, 2.650e-01, 1.000e+00],\n",
       "       [5.000e+02, 2.200e-01, 1.000e+00],\n",
       "       [1.000e+03, 2.220e-01, 1.000e+00],\n",
       "       [2.000e+03, 2.405e-01, 9.980e-01],\n",
       "       [5.000e+03, 2.618e-01, 9.582e-01]])"
      ]
     },
     "execution_count": 37,
     "metadata": {},
     "output_type": "execute_result"
    }
   ],
   "source": []
  },
  {
   "cell_type": "code",
   "execution_count": 38,
   "id": "0e53e6ee-761a-4d01-a531-43dbc2d22137",
   "metadata": {},
   "outputs": [
    {
     "data": {
      "text/plain": [
       "Text(0, 0.5, 'Accuracy')"
      ]
     },
     "execution_count": 38,
     "metadata": {},
     "output_type": "execute_result"
    },
    {
     "data": {
      "image/png": "[encoded data removed]",
      "text/plain": [
       "<Figure size 432x288 with 1 Axes>"
      ]
     },
     "metadata": {
      "needs_background": "light"
     },
     "output_type": "display_data"
    }
   ],
   "source": [
    "plt.plot(qt, tot_acc.T[2], label = \"Training\")\n",
    "plt.plot(qt, tot_acc.T[1], label = \"Validation\")\n",
    "plt.title(\"CIFAR10 Accuracy vs. Number of Datapoints\")\n",
    "plt.legend()\n",
    "plt.xlabel(\"Number\")\n",
    "plt.ylabel(\"Accuracy\")"
   ]
  },
  {
   "cell_type": "code",
   "execution_count": 163,
   "id": "dff247a2-d7e7-4149-b41e-a586d946587c",
   "metadata": {},
   "outputs": [],
   "source": [
    "C_vals = np.logspace(-3, 4, 8)"
   ]
  },
  {
   "cell_type": "code",
   "execution_count": 165,
   "id": "ca863652-9c5d-40d8-9125-bda889ffaa02",
   "metadata": {},
   "outputs": [],
   "source": [
    "def perform_training_mnist_C(data, num, C_val):\n",
    "    td = data[\"training_data\"][:num] / 255\n",
    "    tl = np.ravel(data[\"training_labels\"])[:num]\n",
    "    vd = data[\"valid_data\"][:num] / 255\n",
    "    vl = np.ravel(data[\"valid_labels\"])[:num]\n",
    "    alg = svm.LinearSVC(max_iter = 5000, C = C_val)\n",
    "    alg.fit(td, tl)\n",
    "    vp = alg.predict(vd)\n",
    "    tp = alg.predict(td)\n",
    "    vacc = accuracy_score(vl, vp)\n",
    "    tacc = accuracy_score(tl, tp)\n",
    "    return num, vacc, tacc"
   ]
  },
  {
   "cell_type": "code",
   "execution_count": 166,
   "id": "d639df85-2a7c-4ec7-81cd-fbd999425bce",
   "metadata": {},
   "outputs": [],
   "source": [
    "data = io.loadmat(\"data/prep_mnist_data.mat\")"
   ]
  },
  {
   "cell_type": "code",
   "execution_count": 167,
   "id": "1ab088bf-789a-4b7b-b49a-eaebe0260b82",
   "metadata": {},
   "outputs": [
    {
     "name": "stderr",
     "output_type": "stream",
     "text": [
      "/Users/shri/opt/miniconda3/envs/astroconda/lib/python3.7/site-packages/sklearn/svm/_base.py:977: ConvergenceWarning: Liblinear failed to converge, increase the number of iterations.\n",
      "  \"the number of iterations.\", ConvergenceWarning)\n",
      "/Users/shri/opt/miniconda3/envs/astroconda/lib/python3.7/site-packages/sklearn/svm/_base.py:977: ConvergenceWarning: Liblinear failed to converge, increase the number of iterations.\n",
      "  \"the number of iterations.\", ConvergenceWarning)\n",
      "/Users/shri/opt/miniconda3/envs/astroconda/lib/python3.7/site-packages/sklearn/svm/_base.py:977: ConvergenceWarning: Liblinear failed to converge, increase the number of iterations.\n",
      "  \"the number of iterations.\", ConvergenceWarning)\n",
      "/Users/shri/opt/miniconda3/envs/astroconda/lib/python3.7/site-packages/sklearn/svm/_base.py:977: ConvergenceWarning: Liblinear failed to converge, increase the number of iterations.\n",
      "  \"the number of iterations.\", ConvergenceWarning)\n"
     ]
    }
   ],
   "source": [
    "tot_acc = np.array([perform_training_mnist_C(data, 10000, i) for i in C_vals])"
   ]
  },
  {
   "cell_type": "code",
   "execution_count": 181,
   "id": "489d2dd4-9e0e-421e-9cce-32084a2ad285",
   "metadata": {},
   "outputs": [
    {
     "data": {
      "text/plain": [
       "Text(0, 0.5, 'Accuracy')"
      ]
     },
     "execution_count": 181,
     "metadata": {},
     "output_type": "execute_result"
    },
    {
     "data": {
      "image/png": "[encoded data removed]",
      "text/plain": [
       "<Figure size 432x288 with 1 Axes>"
      ]
     },
     "metadata": {
      "needs_background": "light"
     },
     "output_type": "display_data"
    }
   ],
   "source": [
    "plt.plot(C_vals, tot_acc.T[2], label = \"Training\")\n",
    "plt.plot(C_vals, tot_acc.T[1], label = \"Validation\")\n",
    "plt.title(\"MNIST Accuracy vs. Value of Hyperparameter C\")\n",
    "plt.legend()\n",
    "plt.semilogx()\n",
    "plt.xlabel(\"C\")\n",
    "plt.ylabel(\"Accuracy\")"
   ]
  },
  {
   "cell_type": "code",
   "execution_count": 190,
   "id": "542dcdc3-7ad0-402a-a2aa-5fb945dca9d2",
   "metadata": {},
   "outputs": [
    {
     "data": {
      "text/plain": [
       "array([0.8986, 0.9241, 0.9475, 0.9634, 0.9746, 0.9633, 0.9633, 0.9543])"
      ]
     },
     "execution_count": 190,
     "metadata": {},
     "output_type": "execute_result"
    }
   ],
   "source": [
    "tot_acc.T[2]"
   ]
  },
  {
   "cell_type": "code",
   "execution_count": 191,
   "id": "d6b5a813-76a7-45a3-a682-cd824370147a",
   "metadata": {},
   "outputs": [
    {
     "data": {
      "text/plain": [
       "array([0.8887, 0.9049, 0.9023, 0.8928, 0.8764, 0.8527, 0.8531, 0.844 ])"
      ]
     },
     "execution_count": 191,
     "metadata": {},
     "output_type": "execute_result"
    }
   ],
   "source": [
    "tot_acc.T[1]"
   ]
  },
  {
   "cell_type": "code",
   "execution_count": 192,
   "id": "18c47fa0-884e-4f2c-a587-a37434c215c1",
   "metadata": {},
   "outputs": [
    {
     "data": {
      "text/plain": [
       "array([1.e-03, 1.e-02, 1.e-01, 1.e+00, 1.e+01, 1.e+02, 1.e+03, 1.e+04])"
      ]
     },
     "execution_count": 192,
     "metadata": {},
     "output_type": "execute_result"
    }
   ],
   "source": [
    "C_vals"
   ]
  },
  {
   "cell_type": "code",
   "execution_count": 172,
   "id": "df1baa3b-fb5e-4706-9c13-b4c0e3c76bde",
   "metadata": {},
   "outputs": [],
   "source": [
    "spam_dat = io.loadmat(\"data/spam_data.mat\")"
   ]
  },
  {
   "cell_type": "code",
   "execution_count": 173,
   "id": "de1cc769-39ee-4c02-bc7b-178e1c59355c",
   "metadata": {},
   "outputs": [],
   "source": [
    "def split_data_kcross(train, labels, num_valid, n):\n",
    "    num_data = train.shape[0]\n",
    "    assert num_valid <= len(train)\n",
    "    assert num_data == labels.shape[0]\n",
    "    idx = np.arange(num_data)\n",
    "    np.random.shuffle(idx)\n",
    "    train_shf = train[idx]\n",
    "    lbl_shf = labels[idx]\n",
    "    print(n * num_valid)\n",
    "    print((n + 1) * num_valid)\n",
    "    valid_dat = train_shf[n * num_valid : (n + 1) * num_valid]\n",
    "    valid_lbl = lbl_shf[n * num_valid : (n + 1) * num_valid]\n",
    "    train_dat = np.concatenate([train_shf[:n * num_valid], train_shf[(n + 1) * num_valid:]])\n",
    "    train_lbl = np.concatenate([lbl_shf[:n * num_valid], lbl_shf[(n + 1) * num_valid:]])\n",
    "    return train_dat, train_lbl, valid_dat, valid_lbl"
   ]
  },
  {
   "cell_type": "code",
   "execution_count": 174,
   "id": "d7e62fa7-cf20-41a6-affe-8d8826534436",
   "metadata": {},
   "outputs": [
    {
     "name": "stdout",
     "output_type": "stream",
     "text": [
      "0\n",
      "1034\n",
      "1034\n",
      "2068\n",
      "2068\n",
      "3102\n",
      "3102\n",
      "4136\n",
      "4136\n",
      "5170\n"
     ]
    }
   ],
   "source": [
    "total_data = [split_data_kcross(spam_dat[\"training_data\"], spam_dat[\"training_labels\"], spam_dat[\"training_data\"].shape[0] // 5, i) for i in range(5)]"
   ]
  },
  {
   "cell_type": "code",
   "execution_count": 175,
   "id": "0592f4b6-c67f-4b90-a4bf-c5b9b378a8bc",
   "metadata": {},
   "outputs": [],
   "source": [
    "def perform_training_spam_cross(data, C_val):\n",
    "    td = data[0]\n",
    "    tl = np.ravel(data[1])\n",
    "    vd = data[2]\n",
    "    vl = np.ravel(data[3])\n",
    "    alg = svm.LinearSVC(max_iter = 10000, C = C_val)\n",
    "    alg.fit(td, tl)\n",
    "    vp = alg.predict(vd)\n",
    "    tp = alg.predict(td)\n",
    "    vacc = accuracy_score(vl, vp)\n",
    "    tacc = accuracy_score(tl, tp)\n",
    "    return vacc, tacc\n",
    "\n",
    "def averageTraining(total_data, C_val):\n",
    "    res = np.array([perform_training_spam_cross(total_data[i], C_val) for i in range(5)])\n",
    "    vacc = np.mean(res.T[0])\n",
    "    tacc = np.mean(res.T[1])\n",
    "    return vacc, tacc"
   ]
  },
  {
   "cell_type": "code",
   "execution_count": 176,
   "id": "6e3fa802-cdab-41dc-a494-b202b11e42e7",
   "metadata": {},
   "outputs": [
    {
     "name": "stderr",
     "output_type": "stream",
     "text": [
      "/Users/shri/opt/miniconda3/envs/astroconda/lib/python3.7/site-packages/sklearn/svm/_base.py:977: ConvergenceWarning: Liblinear failed to converge, increase the number of iterations.\n",
      "  \"the number of iterations.\", ConvergenceWarning)\n",
      "/Users/shri/opt/miniconda3/envs/astroconda/lib/python3.7/site-packages/sklearn/svm/_base.py:977: ConvergenceWarning: Liblinear failed to converge, increase the number of iterations.\n",
      "  \"the number of iterations.\", ConvergenceWarning)\n",
      "/Users/shri/opt/miniconda3/envs/astroconda/lib/python3.7/site-packages/sklearn/svm/_base.py:977: ConvergenceWarning: Liblinear failed to converge, increase the number of iterations.\n",
      "  \"the number of iterations.\", ConvergenceWarning)\n",
      "/Users/shri/opt/miniconda3/envs/astroconda/lib/python3.7/site-packages/sklearn/svm/_base.py:977: ConvergenceWarning: Liblinear failed to converge, increase the number of iterations.\n",
      "  \"the number of iterations.\", ConvergenceWarning)\n",
      "/Users/shri/opt/miniconda3/envs/astroconda/lib/python3.7/site-packages/sklearn/svm/_base.py:977: ConvergenceWarning: Liblinear failed to converge, increase the number of iterations.\n",
      "  \"the number of iterations.\", ConvergenceWarning)\n",
      "/Users/shri/opt/miniconda3/envs/astroconda/lib/python3.7/site-packages/sklearn/svm/_base.py:977: ConvergenceWarning: Liblinear failed to converge, increase the number of iterations.\n",
      "  \"the number of iterations.\", ConvergenceWarning)\n",
      "/Users/shri/opt/miniconda3/envs/astroconda/lib/python3.7/site-packages/sklearn/svm/_base.py:977: ConvergenceWarning: Liblinear failed to converge, increase the number of iterations.\n",
      "  \"the number of iterations.\", ConvergenceWarning)\n",
      "/Users/shri/opt/miniconda3/envs/astroconda/lib/python3.7/site-packages/sklearn/svm/_base.py:977: ConvergenceWarning: Liblinear failed to converge, increase the number of iterations.\n",
      "  \"the number of iterations.\", ConvergenceWarning)\n",
      "/Users/shri/opt/miniconda3/envs/astroconda/lib/python3.7/site-packages/sklearn/svm/_base.py:977: ConvergenceWarning: Liblinear failed to converge, increase the number of iterations.\n",
      "  \"the number of iterations.\", ConvergenceWarning)\n",
      "/Users/shri/opt/miniconda3/envs/astroconda/lib/python3.7/site-packages/sklearn/svm/_base.py:977: ConvergenceWarning: Liblinear failed to converge, increase the number of iterations.\n",
      "  \"the number of iterations.\", ConvergenceWarning)\n",
      "/Users/shri/opt/miniconda3/envs/astroconda/lib/python3.7/site-packages/sklearn/svm/_base.py:977: ConvergenceWarning: Liblinear failed to converge, increase the number of iterations.\n",
      "  \"the number of iterations.\", ConvergenceWarning)\n",
      "/Users/shri/opt/miniconda3/envs/astroconda/lib/python3.7/site-packages/sklearn/svm/_base.py:977: ConvergenceWarning: Liblinear failed to converge, increase the number of iterations.\n",
      "  \"the number of iterations.\", ConvergenceWarning)\n",
      "/Users/shri/opt/miniconda3/envs/astroconda/lib/python3.7/site-packages/sklearn/svm/_base.py:977: ConvergenceWarning: Liblinear failed to converge, increase the number of iterations.\n",
      "  \"the number of iterations.\", ConvergenceWarning)\n",
      "/Users/shri/opt/miniconda3/envs/astroconda/lib/python3.7/site-packages/sklearn/svm/_base.py:977: ConvergenceWarning: Liblinear failed to converge, increase the number of iterations.\n",
      "  \"the number of iterations.\", ConvergenceWarning)\n",
      "/Users/shri/opt/miniconda3/envs/astroconda/lib/python3.7/site-packages/sklearn/svm/_base.py:977: ConvergenceWarning: Liblinear failed to converge, increase the number of iterations.\n",
      "  \"the number of iterations.\", ConvergenceWarning)\n",
      "/Users/shri/opt/miniconda3/envs/astroconda/lib/python3.7/site-packages/sklearn/svm/_base.py:977: ConvergenceWarning: Liblinear failed to converge, increase the number of iterations.\n",
      "  \"the number of iterations.\", ConvergenceWarning)\n",
      "/Users/shri/opt/miniconda3/envs/astroconda/lib/python3.7/site-packages/sklearn/svm/_base.py:977: ConvergenceWarning: Liblinear failed to converge, increase the number of iterations.\n",
      "  \"the number of iterations.\", ConvergenceWarning)\n",
      "/Users/shri/opt/miniconda3/envs/astroconda/lib/python3.7/site-packages/sklearn/svm/_base.py:977: ConvergenceWarning: Liblinear failed to converge, increase the number of iterations.\n",
      "  \"the number of iterations.\", ConvergenceWarning)\n",
      "/Users/shri/opt/miniconda3/envs/astroconda/lib/python3.7/site-packages/sklearn/svm/_base.py:977: ConvergenceWarning: Liblinear failed to converge, increase the number of iterations.\n",
      "  \"the number of iterations.\", ConvergenceWarning)\n",
      "/Users/shri/opt/miniconda3/envs/astroconda/lib/python3.7/site-packages/sklearn/svm/_base.py:977: ConvergenceWarning: Liblinear failed to converge, increase the number of iterations.\n",
      "  \"the number of iterations.\", ConvergenceWarning)\n",
      "/Users/shri/opt/miniconda3/envs/astroconda/lib/python3.7/site-packages/sklearn/svm/_base.py:977: ConvergenceWarning: Liblinear failed to converge, increase the number of iterations.\n",
      "  \"the number of iterations.\", ConvergenceWarning)\n",
      "/Users/shri/opt/miniconda3/envs/astroconda/lib/python3.7/site-packages/sklearn/svm/_base.py:977: ConvergenceWarning: Liblinear failed to converge, increase the number of iterations.\n",
      "  \"the number of iterations.\", ConvergenceWarning)\n",
      "/Users/shri/opt/miniconda3/envs/astroconda/lib/python3.7/site-packages/sklearn/svm/_base.py:977: ConvergenceWarning: Liblinear failed to converge, increase the number of iterations.\n",
      "  \"the number of iterations.\", ConvergenceWarning)\n",
      "/Users/shri/opt/miniconda3/envs/astroconda/lib/python3.7/site-packages/sklearn/svm/_base.py:977: ConvergenceWarning: Liblinear failed to converge, increase the number of iterations.\n",
      "  \"the number of iterations.\", ConvergenceWarning)\n",
      "/Users/shri/opt/miniconda3/envs/astroconda/lib/python3.7/site-packages/sklearn/svm/_base.py:977: ConvergenceWarning: Liblinear failed to converge, increase the number of iterations.\n",
      "  \"the number of iterations.\", ConvergenceWarning)\n",
      "/Users/shri/opt/miniconda3/envs/astroconda/lib/python3.7/site-packages/sklearn/svm/_base.py:977: ConvergenceWarning: Liblinear failed to converge, increase the number of iterations.\n",
      "  \"the number of iterations.\", ConvergenceWarning)\n",
      "/Users/shri/opt/miniconda3/envs/astroconda/lib/python3.7/site-packages/sklearn/svm/_base.py:977: ConvergenceWarning: Liblinear failed to converge, increase the number of iterations.\n",
      "  \"the number of iterations.\", ConvergenceWarning)\n",
      "/Users/shri/opt/miniconda3/envs/astroconda/lib/python3.7/site-packages/sklearn/svm/_base.py:977: ConvergenceWarning: Liblinear failed to converge, increase the number of iterations.\n",
      "  \"the number of iterations.\", ConvergenceWarning)\n",
      "/Users/shri/opt/miniconda3/envs/astroconda/lib/python3.7/site-packages/sklearn/svm/_base.py:977: ConvergenceWarning: Liblinear failed to converge, increase the number of iterations.\n",
      "  \"the number of iterations.\", ConvergenceWarning)\n"
     ]
    }
   ],
   "source": [
    "C_vals = np.logspace(-3, 4, 8)\n",
    "res = np.array([averageTraining(total_data, i) for i in C_vals])"
   ]
  },
  {
   "cell_type": "code",
   "execution_count": 186,
   "id": "b58dbd1c-4fb9-4dd3-bc7e-189f8ae6d607",
   "metadata": {},
   "outputs": [
    {
     "data": {
      "text/plain": [
       "Text(0, 0.5, 'Accuracy')"
      ]
     },
     "execution_count": 186,
     "metadata": {},
     "output_type": "execute_result"
    },
    {
     "data": {
      "image/png": "[encoded data removed]",
      "text/plain": [
       "<Figure size 432x288 with 1 Axes>"
      ]
     },
     "metadata": {
      "needs_background": "light"
     },
     "output_type": "display_data"
    }
   ],
   "source": [
    "plt.plot(C_vals, res.T[1], label = \"Training\")\n",
    "plt.plot(C_vals, res.T[0], label = \"Validation\")\n",
    "plt.title(\"SPAM Accuracy vs. Value of Hyperparameter C\")\n",
    "plt.legend()\n",
    "plt.semilogx()\n",
    "plt.xlabel(\"C\")\n",
    "plt.ylabel(\"Accuracy\")"
   ]
  },
  {
   "cell_type": "code",
   "execution_count": 187,
   "id": "3d2d3ab4-58ee-4df2-8407-1406aeab4a0e",
   "metadata": {},
   "outputs": [
    {
     "data": {
      "text/plain": [
       "array([0.77912035, 0.79937168, 0.80521991, 0.80768487, 0.81034316,\n",
       "       0.81295312, 0.81730304, 0.79594007])"
      ]
     },
     "execution_count": 187,
     "metadata": {},
     "output_type": "execute_result"
    }
   ],
   "source": [
    "res.T[1]"
   ]
  },
  {
   "cell_type": "code",
   "execution_count": 188,
   "id": "9a65d432-c557-4364-8d61-25614096d79a",
   "metadata": {},
   "outputs": [
    {
     "data": {
      "text/plain": [
       "array([0.77911025, 0.79497099, 0.80019342, 0.80096712, 0.80502901,\n",
       "       0.80793037, 0.81566731, 0.79148936])"
      ]
     },
     "execution_count": 188,
     "metadata": {},
     "output_type": "execute_result"
    }
   ],
   "source": [
    "res.T[0]"
   ]
  },
  {
   "cell_type": "code",
   "execution_count": 189,
   "id": "e46ca0ba-f8bc-4ee6-9a6b-b36c6987ce4f",
   "metadata": {},
   "outputs": [
    {
     "data": {
      "text/plain": [
       "array([1.e-03, 1.e-02, 1.e-01, 1.e+00, 1.e+01, 1.e+02, 1.e+03, 1.e+04])"
      ]
     },
     "execution_count": 189,
     "metadata": {},
     "output_type": "execute_result"
    }
   ],
   "source": [
    "C_vals"
   ]
  },
  {
   "cell_type": "code",
   "execution_count": null,
   "id": "56f8e2b7-6874-43df-8fb2-9995f3087986",
   "metadata": {},
   "outputs": [],
   "source": []
  }
 ],
 "metadata": {
  "kernelspec": {
   "display_name": "Python 3 (ipykernel)",
   "language": "python",
   "name": "python3"
  },
  "language_info": {
   "codemirror_mode": {
    "name": "ipython",
    "version": 3
   },
   "file_extension": ".py",
   "mimetype": "text/x-python",
   "name": "python",
   "nbconvert_exporter": "python",
   "pygments_lexer": "ipython3",
   "version": "3.7.11"
  }
 },
 "nbformat": 4,
 "nbformat_minor": 5
}
